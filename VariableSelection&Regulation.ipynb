{
 "cells": [
  {
   "cell_type": "raw",
   "id": "0a3f5f15",
   "metadata": {},
   "source": [
    "---\n",
    "self-contained: true\n",
    "title: \"Variable Selection and Regulation Using Baseball Data\"\n",
    "author: \"Brogan Pietrocini\"\n",
    "fontcolor: black\n",
    "backgroundcolor: whitesmoke\n",
    "format:\n",
    "    html:\n",
    "        theme: zephyr\n",
    "---\n"
   ]
  },
  {
   "cell_type": "code",
   "execution_count": 1,
   "id": "0880931d",
   "metadata": {},
   "outputs": [],
   "source": [
    "import pandas as pd\n",
    "import numpy as np\n",
    "from sklearn.pipeline import Pipeline\n",
    "from sklearn.compose import make_column_selector, ColumnTransformer\n",
    "from sklearn.preprocessing import StandardScaler, OneHotEncoder, PolynomialFeatures\n",
    "from sklearn.linear_model import LinearRegression, Ridge, Lasso, ElasticNet \n",
    "from sklearn.model_selection import train_test_split, cross_val_score\n",
    "from sklearn.metrics import r2_score\n",
    "from sklearn.model_selection import GridSearchCV\n",
    "from plotnine import *\n"
   ]
  },
  {
   "cell_type": "code",
   "execution_count": 3,
   "id": "04ff4e39",
   "metadata": {},
   "outputs": [
    {
     "data": {
      "text/html": [
       "<div>\n",
       "<style scoped>\n",
       "    .dataframe tbody tr th:only-of-type {\n",
       "        vertical-align: middle;\n",
       "    }\n",
       "\n",
       "    .dataframe tbody tr th {\n",
       "        vertical-align: top;\n",
       "    }\n",
       "\n",
       "    .dataframe thead th {\n",
       "        text-align: right;\n",
       "    }\n",
       "</style>\n",
       "<table border=\"1\" class=\"dataframe\">\n",
       "  <thead>\n",
       "    <tr style=\"text-align: right;\">\n",
       "      <th></th>\n",
       "      <th>AtBat</th>\n",
       "      <th>Hits</th>\n",
       "      <th>HmRun</th>\n",
       "      <th>Runs</th>\n",
       "      <th>RBI</th>\n",
       "      <th>Walks</th>\n",
       "      <th>Years</th>\n",
       "      <th>CAtBat</th>\n",
       "      <th>CHits</th>\n",
       "      <th>CHmRun</th>\n",
       "      <th>CRuns</th>\n",
       "      <th>CRBI</th>\n",
       "      <th>CWalks</th>\n",
       "      <th>League</th>\n",
       "      <th>Division</th>\n",
       "      <th>PutOuts</th>\n",
       "      <th>Assists</th>\n",
       "      <th>Errors</th>\n",
       "      <th>Salary</th>\n",
       "      <th>NewLeague</th>\n",
       "    </tr>\n",
       "  </thead>\n",
       "  <tbody>\n",
       "    <tr>\n",
       "      <th>1</th>\n",
       "      <td>315</td>\n",
       "      <td>81</td>\n",
       "      <td>7</td>\n",
       "      <td>24</td>\n",
       "      <td>38</td>\n",
       "      <td>39</td>\n",
       "      <td>14</td>\n",
       "      <td>3449</td>\n",
       "      <td>835</td>\n",
       "      <td>69</td>\n",
       "      <td>321</td>\n",
       "      <td>414</td>\n",
       "      <td>375</td>\n",
       "      <td>N</td>\n",
       "      <td>W</td>\n",
       "      <td>632</td>\n",
       "      <td>43</td>\n",
       "      <td>10</td>\n",
       "      <td>475.0</td>\n",
       "      <td>N</td>\n",
       "    </tr>\n",
       "    <tr>\n",
       "      <th>2</th>\n",
       "      <td>479</td>\n",
       "      <td>130</td>\n",
       "      <td>18</td>\n",
       "      <td>66</td>\n",
       "      <td>72</td>\n",
       "      <td>76</td>\n",
       "      <td>3</td>\n",
       "      <td>1624</td>\n",
       "      <td>457</td>\n",
       "      <td>63</td>\n",
       "      <td>224</td>\n",
       "      <td>266</td>\n",
       "      <td>263</td>\n",
       "      <td>A</td>\n",
       "      <td>W</td>\n",
       "      <td>880</td>\n",
       "      <td>82</td>\n",
       "      <td>14</td>\n",
       "      <td>480.0</td>\n",
       "      <td>A</td>\n",
       "    </tr>\n",
       "    <tr>\n",
       "      <th>3</th>\n",
       "      <td>496</td>\n",
       "      <td>141</td>\n",
       "      <td>20</td>\n",
       "      <td>65</td>\n",
       "      <td>78</td>\n",
       "      <td>37</td>\n",
       "      <td>11</td>\n",
       "      <td>5628</td>\n",
       "      <td>1575</td>\n",
       "      <td>225</td>\n",
       "      <td>828</td>\n",
       "      <td>838</td>\n",
       "      <td>354</td>\n",
       "      <td>N</td>\n",
       "      <td>E</td>\n",
       "      <td>200</td>\n",
       "      <td>11</td>\n",
       "      <td>3</td>\n",
       "      <td>500.0</td>\n",
       "      <td>N</td>\n",
       "    </tr>\n",
       "    <tr>\n",
       "      <th>4</th>\n",
       "      <td>321</td>\n",
       "      <td>87</td>\n",
       "      <td>10</td>\n",
       "      <td>39</td>\n",
       "      <td>42</td>\n",
       "      <td>30</td>\n",
       "      <td>2</td>\n",
       "      <td>396</td>\n",
       "      <td>101</td>\n",
       "      <td>12</td>\n",
       "      <td>48</td>\n",
       "      <td>46</td>\n",
       "      <td>33</td>\n",
       "      <td>N</td>\n",
       "      <td>E</td>\n",
       "      <td>805</td>\n",
       "      <td>40</td>\n",
       "      <td>4</td>\n",
       "      <td>91.5</td>\n",
       "      <td>N</td>\n",
       "    </tr>\n",
       "    <tr>\n",
       "      <th>5</th>\n",
       "      <td>594</td>\n",
       "      <td>169</td>\n",
       "      <td>4</td>\n",
       "      <td>74</td>\n",
       "      <td>51</td>\n",
       "      <td>35</td>\n",
       "      <td>11</td>\n",
       "      <td>4408</td>\n",
       "      <td>1133</td>\n",
       "      <td>19</td>\n",
       "      <td>501</td>\n",
       "      <td>336</td>\n",
       "      <td>194</td>\n",
       "      <td>A</td>\n",
       "      <td>W</td>\n",
       "      <td>282</td>\n",
       "      <td>421</td>\n",
       "      <td>25</td>\n",
       "      <td>750.0</td>\n",
       "      <td>A</td>\n",
       "    </tr>\n",
       "  </tbody>\n",
       "</table>\n",
       "</div>"
      ],
      "text/plain": [
       "   AtBat  Hits  HmRun  Runs  RBI  Walks  Years  CAtBat  CHits  CHmRun  CRuns  \\\n",
       "1    315    81      7    24   38     39     14    3449    835      69    321   \n",
       "2    479   130     18    66   72     76      3    1624    457      63    224   \n",
       "3    496   141     20    65   78     37     11    5628   1575     225    828   \n",
       "4    321    87     10    39   42     30      2     396    101      12     48   \n",
       "5    594   169      4    74   51     35     11    4408   1133      19    501   \n",
       "\n",
       "   CRBI  CWalks League Division  PutOuts  Assists  Errors  Salary NewLeague  \n",
       "1   414     375      N        W      632       43      10   475.0         N  \n",
       "2   266     263      A        W      880       82      14   480.0         A  \n",
       "3   838     354      N        E      200       11       3   500.0         N  \n",
       "4    46      33      N        E      805       40       4    91.5         N  \n",
       "5   336     194      A        W      282      421      25   750.0         A  "
      ]
     },
     "execution_count": 3,
     "metadata": {},
     "output_type": "execute_result"
    }
   ],
   "source": [
    "#Prep Data\n",
    "baseball = pd.read_csv(r\"C:\\Users\\broga\\OneDrive\\Desktop\\MSBA\\Computing_ML\\Labs\\Lab_6\\Hitters.csv\")\n",
    "baseball = baseball.dropna()\n",
    "baseball.head()"
   ]
  },
  {
   "cell_type": "markdown",
   "id": "f4848fd5",
   "metadata": {},
   "source": [
    "We are going to analyze different ways/models to predict a quantitative variable using linear, lasso, ridge, and elastic net regression. We are using a baseball dataset to predict salaries based on various baseball statistcs. We learn below about hte benefits of penalized regression models and how elastic net finds the optimal ratio between ridge and lasso regression. We also tune use pipelines, cross-validation, and tuning from the sci-kit learn library to streamline and efficiently choose parameters within models."
   ]
  },
  {
   "cell_type": "markdown",
   "id": "d58b6594",
   "metadata": {},
   "source": [
    "# Part I: Different Model Specs"
   ]
  },
  {
   "cell_type": "code",
   "execution_count": 3,
   "id": "ee2994aa",
   "metadata": {},
   "outputs": [],
   "source": [
    "X = baseball.drop('Salary', axis=1)\n",
    "y = baseball['Salary']\n",
    "# Identifier for cat and num columns\n",
    "catCols = X.select_dtypes(include=['object']).columns\n",
    "numCols = X.select_dtypes(include=['int64', 'float64']).columns"
   ]
  },
  {
   "cell_type": "markdown",
   "id": "51889618",
   "metadata": {},
   "source": [
    "## Regression without regularization"
   ]
  },
  {
   "cell_type": "markdown",
   "id": "79fc88c8",
   "metadata": {},
   "source": [
    "1. Create a pipeline that includes all the columns as predictors for Salary, and performs ordinary linear regression"
   ]
  },
  {
   "cell_type": "code",
   "execution_count": 4,
   "id": "856bae80",
   "metadata": {},
   "outputs": [
    {
     "name": "stdout",
     "output_type": "stream",
     "text": [
      "  Variable  Coefficient\n",
      "0    CRuns   480.747135\n",
      "1   CAtBat  -391.038655\n",
      "2     Hits   337.830479\n",
      "3    AtBat  -291.094556\n",
      "4     CRBI   260.689886\n",
      "MSE: 121136.3103\n"
     ]
    }
   ],
   "source": [
    "# Column transformer that standardizes + creates dummies\n",
    "ct = ColumnTransformer(\n",
    "    transformers=[\n",
    "        ('num', StandardScaler(), numCols),\n",
    "        ('cat', OneHotEncoder(), catCols)\n",
    "    ])\n",
    "\n",
    "# Creates pipeline\n",
    "lr_pipeline = Pipeline([\n",
    "    ('preprocessing', ct),\n",
    "    ('linear_regression', LinearRegression())\n",
    "])\n",
    "\n",
    "# Fit pipline to entire dataset\n",
    "lr_pipeline.fit(X, y)\n",
    "\n",
    "# Getting the coefficients from the linear regression model\n",
    "coefficients = lr_pipeline.named_steps['linear_regression'].coef_\n",
    "var_names = ct.transformers_[0][2].tolist() +\\\n",
    "            list(ct.named_transformers_['cat'].get_feature_names_out()) #grabs categorical var names\n",
    "\n",
    "# Combining coefficients with feature names\n",
    "coeff_names = list(zip(var_names, coefficients))\n",
    "\n",
    "# Sorting coefficients by their absolute values to find the most impactful ones\n",
    "coeff_sig = sorted(coeff_names, key=lambda x: abs(x[1]), reverse=True)\n",
    "\n",
    "# Estimating (MSE) using cross-validation\n",
    "cv_scores = cross_val_score(lr_pipeline, X, y, cv=5, scoring='neg_mean_squared_error')\n",
    "mse_cv = round(-np.mean(cv_scores),4)\n",
    "\n",
    "top_coeff = pd.DataFrame(coeff_sig[:5], columns=['Variable', 'Coefficient'])\n",
    "\n",
    "print(top_coeff)\n",
    "print(f\"MSE: {mse_cv}\")\n"
   ]
  },
  {
   "cell_type": "markdown",
   "id": "9d32fda6",
   "metadata": {},
   "source": [
    "The following 3 coefficients were the most important coefficients within the model: Cruns, CAtBat, amd Hits. CRuns and Hits having large positive coefficients makes sense as those are important stats that contribute postively to winning baseball games. CAtBat's having a large negative coefficient is a little bit surprising but I guess it captures the older veteran players that usually take discounted/lower contracts at the end of their playing careers.\n"
   ]
  },
  {
   "cell_type": "markdown",
   "id": "464c5b8e",
   "metadata": {},
   "source": [
    "## Ridge Regression"
   ]
  },
  {
   "cell_type": "code",
   "execution_count": 5,
   "id": "9d9db991",
   "metadata": {},
   "outputs": [
    {
     "data": {
      "text/html": [
       "<div>\n",
       "<style scoped>\n",
       "    .dataframe tbody tr th:only-of-type {\n",
       "        vertical-align: middle;\n",
       "    }\n",
       "\n",
       "    .dataframe tbody tr th {\n",
       "        vertical-align: top;\n",
       "    }\n",
       "\n",
       "    .dataframe thead th {\n",
       "        text-align: right;\n",
       "    }\n",
       "</style>\n",
       "<table border=\"1\" class=\"dataframe\">\n",
       "  <thead>\n",
       "    <tr style=\"text-align: right;\">\n",
       "      <th></th>\n",
       "      <th>lambdas</th>\n",
       "      <th>MSE scores</th>\n",
       "    </tr>\n",
       "  </thead>\n",
       "  <tbody>\n",
       "    <tr>\n",
       "      <th>0</th>\n",
       "      <td>0.1</td>\n",
       "      <td>120343.621067</td>\n",
       "    </tr>\n",
       "    <tr>\n",
       "      <th>1</th>\n",
       "      <td>1.0</td>\n",
       "      <td>119144.432677</td>\n",
       "    </tr>\n",
       "    <tr>\n",
       "      <th>2</th>\n",
       "      <td>10.0</td>\n",
       "      <td>119348.984776</td>\n",
       "    </tr>\n",
       "    <tr>\n",
       "      <th>3</th>\n",
       "      <td>100.0</td>\n",
       "      <td>120716.435589</td>\n",
       "    </tr>\n",
       "  </tbody>\n",
       "</table>\n",
       "</div>"
      ],
      "text/plain": [
       "   lambdas     MSE scores\n",
       "0      0.1  120343.621067\n",
       "1      1.0  119144.432677\n",
       "2     10.0  119348.984776\n",
       "3    100.0  120716.435589"
      ]
     },
     "execution_count": 5,
     "metadata": {},
     "output_type": "execute_result"
    }
   ],
   "source": [
    "# Column transformer that standardizes + creates dummies\n",
    "ct = ColumnTransformer(\n",
    "    transformers=[\n",
    "        ('num', StandardScaler(), numCols),\n",
    "        ('cat', OneHotEncoder(), catCols)\n",
    "    ])\n",
    "\n",
    "# Creating pipeline\n",
    "ridge_pipeline = Pipeline(\n",
    "  [(\"preprocessing\", ct),\n",
    "  (\"ridge_regression\", Ridge())]\n",
    ")\n",
    "\n",
    "results = [0.1,1,10,100]\n",
    "\n",
    "lambdas = {'ridge_regression__alpha': results}\n",
    "\n",
    "gscv = GridSearchCV(ridge_pipeline, lambdas, cv = 5, scoring='neg_mean_squared_error')\n",
    "\n",
    "gscv_fitted = gscv.fit(X, y)\n",
    "mse_scores = -gscv_fitted.cv_results_['mean_test_score']\n",
    "pd.DataFrame(data={\"lambdas\": results, \"MSE scores\": mse_scores})"
   ]
  },
  {
   "cell_type": "code",
   "execution_count": 6,
   "id": "ca8eae34",
   "metadata": {},
   "outputs": [
    {
     "name": "stdout",
     "output_type": "stream",
     "text": [
      "  Variable  Coefficient\n",
      "0    CRuns   320.412169\n",
      "1     Hits   296.645050\n",
      "2    AtBat  -270.686441\n",
      "3   CAtBat  -225.406548\n",
      "4   CWalks  -184.423611\n",
      "MSE: 119144.4327\n"
     ]
    }
   ],
   "source": [
    "# Column transformer that standardizes + creates dummies\n",
    "ct = ColumnTransformer(\n",
    "    transformers=[\n",
    "        ('num', StandardScaler(), numCols),\n",
    "        ('cat', OneHotEncoder(), catCols)\n",
    "    ])\n",
    "\n",
    "# Creating pipeline with optimal lambda\n",
    "ridge_pipeline2 = Pipeline(\n",
    "  [(\"preprocessing\", ct),\n",
    "  (\"ridge_regression\", Ridge(alpha=1))]\n",
    ")\n",
    "\n",
    "# Fit pipline to entire dataset\n",
    "ridge_pipeline2.fit(X, y)\n",
    "\n",
    "# Getting the coefficients from the linear regression model\n",
    "coefficients = ridge_pipeline2.named_steps['ridge_regression'].coef_\n",
    "var_names = ct.transformers_[0][2].tolist() +\\\n",
    "            list(ct.named_transformers_['cat'].get_feature_names_out()) #grabs categorical var names\n",
    "\n",
    "# Combining coefficients with feature names\n",
    "coeff_names = list(zip(var_names, coefficients))\n",
    "\n",
    "# Sorting coefficients by their absolute values to find the most impactful ones\n",
    "coeff_sig = sorted(coeff_names, key=lambda x: abs(x[1]), reverse=True)\n",
    "\n",
    "# Estimating (MSE) using cross-validation\n",
    "cv_scores = cross_val_score(ridge_pipeline2, X, y, cv=5, scoring='neg_mean_squared_error')\n",
    "mse_cv = round(-np.mean(cv_scores),4)\n",
    "\n",
    "top_coeff = pd.DataFrame(coeff_sig[:5], columns=['Variable', 'Coefficient'])\n",
    "\n",
    "print(top_coeff)\n",
    "print(f\"MSE: {mse_cv}\")"
   ]
  },
  {
   "cell_type": "markdown",
   "id": "d92ab269",
   "metadata": {},
   "source": [
    "The following 3 coefficients were the most important coefficients within the model: CRuns, Hits, and AtBat. See previous interpretations."
   ]
  },
  {
   "cell_type": "markdown",
   "id": "0fb2313b",
   "metadata": {},
   "source": [
    "## Lasso Regression"
   ]
  },
  {
   "cell_type": "code",
   "execution_count": 7,
   "id": "67615679",
   "metadata": {},
   "outputs": [
    {
     "data": {
      "text/html": [
       "<div>\n",
       "<style scoped>\n",
       "    .dataframe tbody tr th:only-of-type {\n",
       "        vertical-align: middle;\n",
       "    }\n",
       "\n",
       "    .dataframe tbody tr th {\n",
       "        vertical-align: top;\n",
       "    }\n",
       "\n",
       "    .dataframe thead th {\n",
       "        text-align: right;\n",
       "    }\n",
       "</style>\n",
       "<table border=\"1\" class=\"dataframe\">\n",
       "  <thead>\n",
       "    <tr style=\"text-align: right;\">\n",
       "      <th></th>\n",
       "      <th>lambdas</th>\n",
       "      <th>MSE scores</th>\n",
       "    </tr>\n",
       "  </thead>\n",
       "  <tbody>\n",
       "    <tr>\n",
       "      <th>0</th>\n",
       "      <td>1</td>\n",
       "      <td>119996.472961</td>\n",
       "    </tr>\n",
       "    <tr>\n",
       "      <th>1</th>\n",
       "      <td>10</td>\n",
       "      <td>122422.228759</td>\n",
       "    </tr>\n",
       "    <tr>\n",
       "      <th>2</th>\n",
       "      <td>100</td>\n",
       "      <td>143641.550676</td>\n",
       "    </tr>\n",
       "  </tbody>\n",
       "</table>\n",
       "</div>"
      ],
      "text/plain": [
       "   lambdas     MSE scores\n",
       "0        1  119996.472961\n",
       "1       10  122422.228759\n",
       "2      100  143641.550676"
      ]
     },
     "execution_count": 7,
     "metadata": {},
     "output_type": "execute_result"
    }
   ],
   "source": [
    "# Column transformer that standardizes + creates dummies\n",
    "ct = ColumnTransformer(\n",
    "    transformers=[\n",
    "        ('num', StandardScaler(), numCols),\n",
    "        ('cat', OneHotEncoder(), catCols)\n",
    "    ])\n",
    "\n",
    "# Creating pipeline\n",
    "lasso_pipeline = Pipeline(\n",
    "  [(\"preprocessing\", ct),\n",
    "  (\"lasso_regression\", Lasso(tol=.01))]\n",
    ")\n",
    "\n",
    "results = [1,10,100]\n",
    "\n",
    "lambdas = {'lasso_regression__alpha': results}\n",
    "\n",
    "gscv = GridSearchCV(lasso_pipeline, lambdas, cv = 5, scoring='neg_mean_squared_error')\n",
    "\n",
    "gscv_fitted = gscv.fit(X, y)\n",
    "mse_scores = -gscv_fitted.cv_results_['mean_test_score']\n",
    "pd.DataFrame(data={\"lambdas\": results, \"MSE scores\": mse_scores})"
   ]
  },
  {
   "cell_type": "code",
   "execution_count": 8,
   "id": "16d06b89",
   "metadata": {},
   "outputs": [
    {
     "name": "stdout",
     "output_type": "stream",
     "text": [
      "  Variable  Coefficient\n",
      "0    CRuns   316.220873\n",
      "1     Hits   293.053451\n",
      "2    AtBat  -277.177325\n",
      "3   CAtBat  -237.345856\n",
      "4   CWalks  -182.501286\n",
      "MSE: 119996.473\n"
     ]
    }
   ],
   "source": [
    "# Column transformer that standardizes + creates dummies\n",
    "ct = ColumnTransformer(\n",
    "    transformers=[\n",
    "        ('num', StandardScaler(), numCols),\n",
    "        ('cat', OneHotEncoder(), catCols)\n",
    "    ])\n",
    "\n",
    "# Creating pipeline with optimal lambda\n",
    "lasso_pipeline2 = Pipeline(\n",
    "  [(\"preprocessing\", ct),\n",
    "  (\"lasso_regression\", Lasso(alpha=1,tol=.01))]\n",
    ")\n",
    "\n",
    "# Fit pipline to entire dataset\n",
    "lasso_pipeline2.fit(X, y)\n",
    "\n",
    "# Getting the coefficients from the linear regression model\n",
    "coefficients = lasso_pipeline2.named_steps['lasso_regression'].coef_\n",
    "var_names = ct.transformers_[0][2].tolist() +\\\n",
    "            list(ct.named_transformers_['cat'].get_feature_names_out()) #grabs categorical var names\n",
    "\n",
    "# Combining coefficients with feature names\n",
    "coeff_names = list(zip(var_names, coefficients))\n",
    "\n",
    "# Sorting coefficients by their absolute values to find the most impactful ones\n",
    "coeff_sig = sorted(coeff_names, key=lambda x: abs(x[1]), reverse=True)\n",
    "\n",
    "# Estimating (MSE) using cross-validation\n",
    "cv_scores = cross_val_score(lasso_pipeline2, X, y, cv=5, scoring='neg_mean_squared_error')\n",
    "mse_cv = round(-np.mean(cv_scores),4)\n",
    "\n",
    "top_coeff = pd.DataFrame(coeff_sig[:5], columns=['Variable', 'Coefficient'])\n",
    "\n",
    "print(top_coeff)\n",
    "print(f\"MSE: {mse_cv}\")"
   ]
  },
  {
   "cell_type": "markdown",
   "id": "4a2c44a4",
   "metadata": {},
   "source": [
    "The following 3 coefficients were the most important coefficients within the model: CRuns, Hits, and AtBat. See previous interpretations."
   ]
  },
  {
   "cell_type": "markdown",
   "id": "a52fde03",
   "metadata": {},
   "source": [
    "## Elastic Net"
   ]
  },
  {
   "cell_type": "code",
   "execution_count": 9,
   "id": "b92663ef",
   "metadata": {},
   "outputs": [
    {
     "data": {
      "text/html": [
       "<div>\n",
       "<style scoped>\n",
       "    .dataframe tbody tr th:only-of-type {\n",
       "        vertical-align: middle;\n",
       "    }\n",
       "\n",
       "    .dataframe tbody tr th {\n",
       "        vertical-align: top;\n",
       "    }\n",
       "\n",
       "    .dataframe thead th {\n",
       "        text-align: right;\n",
       "    }\n",
       "</style>\n",
       "<table border=\"1\" class=\"dataframe\">\n",
       "  <thead>\n",
       "    <tr style=\"text-align: right;\">\n",
       "      <th></th>\n",
       "      <th>alpha</th>\n",
       "      <th>l1_ratio</th>\n",
       "      <th>mean_squared_error</th>\n",
       "    </tr>\n",
       "  </thead>\n",
       "  <tbody>\n",
       "    <tr>\n",
       "      <th>18</th>\n",
       "      <td>0.12</td>\n",
       "      <td>0.89</td>\n",
       "      <td>118796.055281</td>\n",
       "    </tr>\n",
       "    <tr>\n",
       "      <th>28</th>\n",
       "      <td>0.23</td>\n",
       "      <td>0.89</td>\n",
       "      <td>118886.622540</td>\n",
       "    </tr>\n",
       "  </tbody>\n",
       "</table>\n",
       "</div>"
      ],
      "text/plain": [
       "   alpha l1_ratio  mean_squared_error\n",
       "18  0.12     0.89       118796.055281\n",
       "28  0.23     0.89       118886.622540"
      ]
     },
     "execution_count": 9,
     "metadata": {},
     "output_type": "execute_result"
    }
   ],
   "source": [
    "# Column transformer that standardizes + creates dummies\n",
    "ct = ColumnTransformer(\n",
    "    transformers=[\n",
    "        ('num', StandardScaler(), numCols),\n",
    "        ('cat', OneHotEncoder(), catCols)\n",
    "    ])\n",
    "\n",
    "\n",
    "# Creating pipeline\n",
    "enet_pipeline = Pipeline(\n",
    "  [(\"preprocessing\", ct),\n",
    "   (\"enet_regression\", ElasticNet(max_iter=100000, tol=0.1))]\n",
    ")\n",
    "\n",
    "\n",
    "lambdas = {\n",
    "    'enet_regression__alpha': np.linspace(0.01, 1, 10),\n",
    "    'enet_regression__l1_ratio': np.linspace(0.01, 1, 10)\n",
    "}\n",
    "\n",
    "# Using enet_pipeline in GridSearchCV\n",
    "gscv = GridSearchCV(enet_pipeline, lambdas, cv=5, scoring='neg_mean_squared_error')\n",
    "\n",
    "gscv_fitted = gscv.fit(X,y)\n",
    "\n",
    "# Extracting results\n",
    "results = gscv.cv_results_\n",
    "\n",
    "# Creating a DataFrame\n",
    "df = pd.DataFrame({\n",
    "    'alpha': results['param_enet_regression__alpha'],\n",
    "    'l1_ratio': results['param_enet_regression__l1_ratio'],\n",
    "    'mean_squared_error': -results['mean_test_score']  \n",
    "})\n",
    "\n",
    "results_df = df.sort_values(by='mean_squared_error')\n",
    "results_df.head(2)"
   ]
  },
  {
   "cell_type": "code",
   "execution_count": 10,
   "id": "a46c94a9",
   "metadata": {},
   "outputs": [
    {
     "name": "stdout",
     "output_type": "stream",
     "text": [
      "  Variable  Coefficient\n",
      "0     Hits   235.047403\n",
      "1    AtBat  -220.137829\n",
      "2    CRuns   204.999106\n",
      "3   CWalks  -147.239948\n",
      "4    CHits   117.952548\n",
      "MSE: 118956.5999\n"
     ]
    }
   ],
   "source": [
    "# Column transformer that standardizes + creates dummies\n",
    "ct = ColumnTransformer(\n",
    "    transformers=[\n",
    "        ('num', StandardScaler(), numCols),\n",
    "        ('cat', OneHotEncoder(), catCols)\n",
    "    ])\n",
    "\n",
    "# Creating pipeline\n",
    "enet_pipeline2 = Pipeline(\n",
    "  [(\"preprocessing\", ct),\n",
    "  (\"enet_regression\", ElasticNet(alpha=0.11,l1_ratio=.89))]\n",
    ")\n",
    "\n",
    "# Fit pipline to entire dataset\n",
    "enet_pipeline2.fit(X, y)\n",
    "\n",
    "# Getting the coefficients from the linear regression model\n",
    "coefficients = enet_pipeline2.named_steps['enet_regression'].coef_\n",
    "var_names = ct.transformers_[0][2].tolist() +\\\n",
    "            list(ct.named_transformers_['cat'].get_feature_names_out()) #grabs categorical var names\n",
    "\n",
    "# Combining coefficients with feature names\n",
    "coeff_names = list(zip(var_names, coefficients))\n",
    "\n",
    "# Sorting coefficients by their absolute values to find the most impactful ones\n",
    "coeff_sig = sorted(coeff_names, key=lambda x: abs(x[1]), reverse=True)\n",
    "\n",
    "# Estimating (MSE) using cross-validation\n",
    "cv_scores = cross_val_score(enet_pipeline2, X, y, cv=5, scoring='neg_mean_squared_error')\n",
    "mse_cv = round(-np.mean(cv_scores),4)\n",
    "\n",
    "top_coeff = pd.DataFrame(coeff_sig[:5], columns=['Variable', 'Coefficient'])\n",
    "\n",
    "print(top_coeff)\n",
    "print(f\"MSE: {mse_cv}\")"
   ]
  },
  {
   "cell_type": "markdown",
   "id": "9ab6a88b",
   "metadata": {},
   "source": [
    "The following 3 coefficients were the most important coefficients within the model: CRuns, Hits, and AtBat. See previous interpretations.\n"
   ]
  },
  {
   "cell_type": "markdown",
   "id": "272fec09",
   "metadata": {},
   "source": [
    "# Part II. Variable Selection"
   ]
  },
  {
   "cell_type": "code",
   "execution_count": 11,
   "id": "fc1062e5",
   "metadata": {},
   "outputs": [],
   "source": [
    "X = baseball[['Hits','CRBI','CRuns','AtBat','Years','Division']]\n",
    "y = baseball[\"Salary\"]"
   ]
  },
  {
   "cell_type": "markdown",
   "id": "eb453848",
   "metadata": {},
   "source": [
    "## Linear Regression"
   ]
  },
  {
   "cell_type": "code",
   "execution_count": 12,
   "id": "a7c70219",
   "metadata": {},
   "outputs": [
    {
     "name": "stdout",
     "output_type": "stream",
     "text": [
      "LR Hits Mean Squared Error: 173088.97286444032\n"
     ]
    }
   ],
   "source": [
    "#LR Only Hits\n",
    "# Column transformer that standardizes + creates dummies\n",
    "ct = ColumnTransformer(\n",
    "    transformers=[\n",
    "        ('Standardize', StandardScaler(), ['Hits']),\n",
    "    ], remainder = \"drop\"\n",
    ").set_output(transform = \"pandas\")\n",
    "\n",
    "# Creates pipeline\n",
    "lr_pipelineHits = Pipeline([\n",
    "    ('preprocessing', ct),\n",
    "    ('linear_regression', LinearRegression())\n",
    "])\n",
    "\n",
    "# Fit pipline to entire dataset\n",
    "lr_pipelineHits.fit(X, y)\n",
    "\n",
    "\n",
    "scores = cross_val_score(lr_pipelineHits, X, y, cv=5, scoring='neg_mean_squared_error')\n",
    "\n",
    "mse_scores = -scores\n",
    "mean_mse = mse_scores.mean()\n",
    "\n",
    "print(f\"LR Hits Mean Squared Error: {mean_mse}\")\n"
   ]
  },
  {
   "cell_type": "code",
   "execution_count": 13,
   "id": "c980e8fa",
   "metadata": {},
   "outputs": [
    {
     "name": "stdout",
     "output_type": "stream",
     "text": [
      "LR Top 5 Mean Squared Error: 121965.386779112\n"
     ]
    }
   ],
   "source": [
    "#LR Top 5\n",
    "# Column transformer that standardizes + creates dummies\n",
    "ct = ColumnTransformer(\n",
    "    transformers=[\n",
    "        ('Standardize', StandardScaler(), ['Hits','CRBI','CRuns','AtBat','Years']),\n",
    "    ], remainder = \"drop\"\n",
    ").set_output(transform = \"pandas\")\n",
    "\n",
    "# Creates pipeline\n",
    "lr_pipelineTop5 = Pipeline([\n",
    "    ('preprocessing', ct),\n",
    "    ('linear_regression', LinearRegression())\n",
    "])\n",
    "\n",
    "# Fit pipline to entire dataset\n",
    "lr_pipelineTop5.fit(X, y)\n",
    "\n",
    "\n",
    "scores = cross_val_score(lr_pipelineTop5, X, y, cv=5, scoring='neg_mean_squared_error')\n",
    "\n",
    "mse_scores = -scores\n",
    "mean_mse = mse_scores.mean()\n",
    "\n",
    "print(f\"LR Top 5 Mean Squared Error: {mean_mse}\")"
   ]
  },
  {
   "cell_type": "code",
   "execution_count": 14,
   "id": "4b120476",
   "metadata": {},
   "outputs": [
    {
     "name": "stdout",
     "output_type": "stream",
     "text": [
      "LR Top 5 + Interact Mean Squared Error: 123078.47016346463\n"
     ]
    }
   ],
   "source": [
    "# LR Top 5 + Interaction\n",
    "# Column transformer that standardizes + creates dummies\n",
    "ct = ColumnTransformer(\n",
    "    transformers=[\n",
    "        (\"dummify\", OneHotEncoder(sparse_output = False), [\"Division\"]),\n",
    "        ('Standardize', StandardScaler(), ['Hits','CRBI','CRuns','AtBat','Years']),\n",
    "    ], remainder = \"passthrough\"\n",
    ").set_output(transform = \"pandas\")\n",
    "\n",
    "ct_inter = ColumnTransformer(\n",
    "  [\n",
    "    (\"interaction1\", PolynomialFeatures(interaction_only = True), [\"Standardize__Hits\", \"dummify__Division_E\"]),\n",
    "    (\"interaction2\", PolynomialFeatures(interaction_only = True), [\"Standardize__CRBI\", \"dummify__Division_E\"]),\n",
    "    (\"interaction3\", PolynomialFeatures(interaction_only = True), [\"Standardize__CRuns\", \"dummify__Division_E\"]),\n",
    "    (\"interaction4\", PolynomialFeatures(interaction_only = True), [\"Standardize__AtBat\", \"dummify__Division_E\"]),\n",
    "    (\"interaction5\", PolynomialFeatures(interaction_only = True), [\"Standardize__Years\", \"dummify__Division_E\"]),\n",
    "  ],\n",
    "  remainder = \"drop\"\n",
    ").set_output(transform = \"pandas\")\n",
    "\n",
    "# Creates pipeline\n",
    "lr_pipelineTop5int = Pipeline([\n",
    "    ('preprocessing', ct),\n",
    "   (\"interaction\", ct_inter),\n",
    "    ('linear_regression', LinearRegression())\n",
    "])\n",
    "\n",
    "# Fit pipline to entire dataset\n",
    "lr_pipelineTop5int.fit(X, y)\n",
    "\n",
    "\n",
    "scores = cross_val_score(lr_pipelineTop5int, X, y, cv=5, scoring='neg_mean_squared_error')\n",
    "\n",
    "mse_scores = -scores\n",
    "mean_mse = mse_scores.mean()\n",
    "\n",
    "print(f\"LR Top 5 + Interact Mean Squared Error: {mean_mse}\")"
   ]
  },
  {
   "cell_type": "markdown",
   "id": "7e8022e3",
   "metadata": {},
   "source": [
    "The Top5 model (no interaction) performed the best which makes sense intuitively as the interactions between division and the chosen predictors would not add much to the model, and including the 5 most significant variables should produce a better model."
   ]
  },
  {
   "cell_type": "markdown",
   "id": "16952c1d",
   "metadata": {},
   "source": [
    "## Ridge Regression"
   ]
  },
  {
   "cell_type": "code",
   "execution_count": 15,
   "id": "6ccffe36",
   "metadata": {},
   "outputs": [
    {
     "data": {
      "text/html": [
       "<div>\n",
       "<style scoped>\n",
       "    .dataframe tbody tr th:only-of-type {\n",
       "        vertical-align: middle;\n",
       "    }\n",
       "\n",
       "    .dataframe tbody tr th {\n",
       "        vertical-align: top;\n",
       "    }\n",
       "\n",
       "    .dataframe thead th {\n",
       "        text-align: right;\n",
       "    }\n",
       "</style>\n",
       "<table border=\"1\" class=\"dataframe\">\n",
       "  <thead>\n",
       "    <tr style=\"text-align: right;\">\n",
       "      <th></th>\n",
       "      <th>lambdas</th>\n",
       "      <th>MSE scores</th>\n",
       "    </tr>\n",
       "  </thead>\n",
       "  <tbody>\n",
       "    <tr>\n",
       "      <th>0</th>\n",
       "      <td>1</td>\n",
       "      <td>173046.230311</td>\n",
       "    </tr>\n",
       "    <tr>\n",
       "      <th>1</th>\n",
       "      <td>10</td>\n",
       "      <td>172755.975523</td>\n",
       "    </tr>\n",
       "    <tr>\n",
       "      <th>2</th>\n",
       "      <td>100</td>\n",
       "      <td>174448.308656</td>\n",
       "    </tr>\n",
       "  </tbody>\n",
       "</table>\n",
       "</div>"
      ],
      "text/plain": [
       "   lambdas     MSE scores\n",
       "0        1  173046.230311\n",
       "1       10  172755.975523\n",
       "2      100  174448.308656"
      ]
     },
     "execution_count": 15,
     "metadata": {},
     "output_type": "execute_result"
    }
   ],
   "source": [
    "# Ridge Only Hits Tuning\n",
    "# Column transformer that standardizes + creates dummies\n",
    "ct = ColumnTransformer(\n",
    "    transformers=[\n",
    "        ('Standardize', StandardScaler(), ['Hits']),\n",
    "    ], remainder = \"drop\"\n",
    ").set_output(transform = \"pandas\")\n",
    "\n",
    "# Creating pipeline\n",
    "ridge_pipelineHits = Pipeline(\n",
    "  [(\"preprocessing\", ct),\n",
    "  (\"ridge_regression\", Ridge())]\n",
    ")\n",
    "\n",
    "results = [1,10,100]\n",
    "\n",
    "lambdas = {'ridge_regression__alpha': results}\n",
    "\n",
    "gscv = GridSearchCV(ridge_pipelineHits, lambdas, cv = 5, scoring='neg_mean_squared_error')\n",
    "\n",
    "gscv_fitted = gscv.fit(X, y)\n",
    "mse_scores = -gscv_fitted.cv_results_['mean_test_score']\n",
    "pd.DataFrame(data={\"lambdas\": results, \"MSE scores\": mse_scores})"
   ]
  },
  {
   "cell_type": "code",
   "execution_count": 16,
   "id": "b8089a72",
   "metadata": {},
   "outputs": [
    {
     "name": "stdout",
     "output_type": "stream",
     "text": [
      "Ridge Reg Hits Mean Squared Error: 172755.97552343184\n"
     ]
    }
   ],
   "source": [
    "# Ridge Only Hits\n",
    "# Creating pipeline with optimal lambda\n",
    "ridge_pipelineHits = Pipeline(\n",
    "  [(\"preprocessing\", ct),\n",
    "  (\"ridge_regression\", Ridge(alpha=10))]\n",
    ")\n",
    "\n",
    "ridge_pipelineHits.fit(X,y)\n",
    "\n",
    "scores = cross_val_score(ridge_pipelineHits, X, y, cv=5, scoring='neg_mean_squared_error')\n",
    "\n",
    "mse_scores = -scores\n",
    "mean_mse = mse_scores.mean()\n",
    "\n",
    "print(f\"Ridge Reg Hits Mean Squared Error: {mean_mse}\")"
   ]
  },
  {
   "cell_type": "code",
   "execution_count": 17,
   "id": "210d8966",
   "metadata": {},
   "outputs": [
    {
     "data": {
      "text/html": [
       "<div>\n",
       "<style scoped>\n",
       "    .dataframe tbody tr th:only-of-type {\n",
       "        vertical-align: middle;\n",
       "    }\n",
       "\n",
       "    .dataframe tbody tr th {\n",
       "        vertical-align: top;\n",
       "    }\n",
       "\n",
       "    .dataframe thead th {\n",
       "        text-align: right;\n",
       "    }\n",
       "</style>\n",
       "<table border=\"1\" class=\"dataframe\">\n",
       "  <thead>\n",
       "    <tr style=\"text-align: right;\">\n",
       "      <th></th>\n",
       "      <th>lambdas</th>\n",
       "      <th>MSE scores</th>\n",
       "    </tr>\n",
       "  </thead>\n",
       "  <tbody>\n",
       "    <tr>\n",
       "      <th>0</th>\n",
       "      <td>0.1</td>\n",
       "      <td>121934.974976</td>\n",
       "    </tr>\n",
       "    <tr>\n",
       "      <th>1</th>\n",
       "      <td>1.0</td>\n",
       "      <td>121778.986574</td>\n",
       "    </tr>\n",
       "    <tr>\n",
       "      <th>2</th>\n",
       "      <td>10.0</td>\n",
       "      <td>122847.118379</td>\n",
       "    </tr>\n",
       "    <tr>\n",
       "      <th>3</th>\n",
       "      <td>100.0</td>\n",
       "      <td>128010.789865</td>\n",
       "    </tr>\n",
       "  </tbody>\n",
       "</table>\n",
       "</div>"
      ],
      "text/plain": [
       "   lambdas     MSE scores\n",
       "0      0.1  121934.974976\n",
       "1      1.0  121778.986574\n",
       "2     10.0  122847.118379\n",
       "3    100.0  128010.789865"
      ]
     },
     "execution_count": 17,
     "metadata": {},
     "output_type": "execute_result"
    }
   ],
   "source": [
    "#Ridge Top 5 Tuning\n",
    "#Only Hits\n",
    "# Column transformer that standardizes + creates dummies\n",
    "ct = ColumnTransformer(\n",
    "    transformers=[\n",
    "        ('Standardize', StandardScaler(), ['Hits','CRBI','CRuns','AtBat','Years']),\n",
    "    ], remainder = \"drop\"\n",
    ").set_output(transform = \"pandas\")\n",
    "\n",
    "# Creating pipeline\n",
    "ridge_pipelineTop5 = Pipeline(\n",
    "  [(\"preprocessing\", ct),\n",
    "  (\"ridge_regression\", Ridge())]\n",
    ")\n",
    "\n",
    "results = [0.1,1,10,100]\n",
    "\n",
    "lambdas = {'ridge_regression__alpha': results}\n",
    "\n",
    "gscv = GridSearchCV(ridge_pipelineTop5, lambdas, cv = 5, scoring='neg_mean_squared_error')\n",
    "\n",
    "gscv_fitted = gscv.fit(X, y)\n",
    "mse_scores = -gscv_fitted.cv_results_['mean_test_score']\n",
    "pd.DataFrame(data={\"lambdas\": results, \"MSE scores\": mse_scores})"
   ]
  },
  {
   "cell_type": "code",
   "execution_count": 18,
   "id": "ae84f206",
   "metadata": {},
   "outputs": [
    {
     "name": "stdout",
     "output_type": "stream",
     "text": [
      "Ridge Reg Top5 Mean Squared Error: 121778.98657389618\n"
     ]
    }
   ],
   "source": [
    "#Ridge Top 5\n",
    "\n",
    "# Creating pipeline with optimal lambda\n",
    "ridge_pipelineTop5 = Pipeline(\n",
    "  [(\"preprocessing\", ct),\n",
    "  (\"ridge_regression\", Ridge(alpha=1))]\n",
    ")\n",
    "\n",
    "ridge_pipelineTop5.fit(X,y)\n",
    "\n",
    "scores = cross_val_score(ridge_pipelineTop5, X, y, cv=5, scoring='neg_mean_squared_error')\n",
    "\n",
    "mse_scores = -scores\n",
    "mean_mse = mse_scores.mean()\n",
    "\n",
    "print(f\"Ridge Reg Top5 Mean Squared Error: {mean_mse}\")\n"
   ]
  },
  {
   "cell_type": "code",
   "execution_count": 19,
   "id": "808c15b7",
   "metadata": {},
   "outputs": [
    {
     "data": {
      "text/html": [
       "<div>\n",
       "<style scoped>\n",
       "    .dataframe tbody tr th:only-of-type {\n",
       "        vertical-align: middle;\n",
       "    }\n",
       "\n",
       "    .dataframe tbody tr th {\n",
       "        vertical-align: top;\n",
       "    }\n",
       "\n",
       "    .dataframe thead th {\n",
       "        text-align: right;\n",
       "    }\n",
       "</style>\n",
       "<table border=\"1\" class=\"dataframe\">\n",
       "  <thead>\n",
       "    <tr style=\"text-align: right;\">\n",
       "      <th></th>\n",
       "      <th>lambdas</th>\n",
       "      <th>MSE scores</th>\n",
       "    </tr>\n",
       "  </thead>\n",
       "  <tbody>\n",
       "    <tr>\n",
       "      <th>0</th>\n",
       "      <td>1</td>\n",
       "      <td>118417.245434</td>\n",
       "    </tr>\n",
       "    <tr>\n",
       "      <th>1</th>\n",
       "      <td>10</td>\n",
       "      <td>115922.255583</td>\n",
       "    </tr>\n",
       "    <tr>\n",
       "      <th>2</th>\n",
       "      <td>100</td>\n",
       "      <td>120460.461112</td>\n",
       "    </tr>\n",
       "    <tr>\n",
       "      <th>3</th>\n",
       "      <td>1000</td>\n",
       "      <td>147194.772549</td>\n",
       "    </tr>\n",
       "  </tbody>\n",
       "</table>\n",
       "</div>"
      ],
      "text/plain": [
       "   lambdas     MSE scores\n",
       "0        1  118417.245434\n",
       "1       10  115922.255583\n",
       "2      100  120460.461112\n",
       "3     1000  147194.772549"
      ]
     },
     "execution_count": 19,
     "metadata": {},
     "output_type": "execute_result"
    }
   ],
   "source": [
    "#Ridge Top 5 + Interaction Tuning\n",
    "# Column transformer that standardizes + creates dummies\n",
    "ct = ColumnTransformer(\n",
    "    transformers=[\n",
    "        (\"dummify\", OneHotEncoder(sparse_output = False), [\"Division\"]),\n",
    "        ('Standardize', StandardScaler(), ['Hits','CRBI','CRuns','AtBat','Years']),\n",
    "    ], remainder = \"passthrough\"\n",
    ").set_output(transform = \"pandas\")\n",
    "\n",
    "ct_inter = ColumnTransformer(\n",
    "  [\n",
    "    (\"interaction1\", PolynomialFeatures(interaction_only = True), [\"Standardize__Hits\", \"dummify__Division_E\"]),\n",
    "    (\"interaction2\", PolynomialFeatures(interaction_only = True), [\"Standardize__CRBI\", \"dummify__Division_E\"]),\n",
    "    (\"interaction3\", PolynomialFeatures(interaction_only = True), [\"Standardize__CRuns\", \"dummify__Division_E\"]),\n",
    "    (\"interaction4\", PolynomialFeatures(interaction_only = True), [\"Standardize__AtBat\", \"dummify__Division_E\"]),\n",
    "    (\"interaction5\", PolynomialFeatures(interaction_only = True), [\"Standardize__Years\", \"dummify__Division_E\"]),\n",
    "  ],\n",
    "  remainder = \"drop\"\n",
    ").set_output(transform = \"pandas\")\n",
    "\n",
    "# Creates pipeline\n",
    "ridge_pipelineTop5int = Pipeline([\n",
    "    ('preprocessing', ct),\n",
    "   (\"interaction\", ct_inter),\n",
    "    ('ridge_regression', Ridge())\n",
    "])\n",
    "\n",
    "results = [1,10,100,1000]\n",
    "\n",
    "lambdas = {'ridge_regression__alpha': results}\n",
    "\n",
    "gscv = GridSearchCV(ridge_pipelineTop5int, lambdas, cv = 5, scoring='neg_mean_squared_error')\n",
    "\n",
    "gscv_fitted = gscv.fit(X, y)\n",
    "mse_scores = -gscv_fitted.cv_results_['mean_test_score']\n",
    "pd.DataFrame(data={\"lambdas\": results, \"MSE scores\": mse_scores})"
   ]
  },
  {
   "cell_type": "code",
   "execution_count": 20,
   "id": "7f3fee9d",
   "metadata": {},
   "outputs": [
    {
     "name": "stdout",
     "output_type": "stream",
     "text": [
      "Ridge Reg Top5 + Int Mean Squared Error: 115922.25558303518\n"
     ]
    }
   ],
   "source": [
    "#Ridge Top 5 + Interaction\n",
    "\n",
    "# Creates pipeline\n",
    "ridge_pipelineTop5int = Pipeline([\n",
    "    ('preprocessing', ct),\n",
    "   (\"interaction\", ct_inter),\n",
    "    ('ridge_regression', Ridge(alpha=10))\n",
    "])\n",
    "\n",
    "ridge_pipelineTop5int.fit(X,y)\n",
    "\n",
    "scores = cross_val_score(ridge_pipelineTop5int, X, y, cv=5, scoring='neg_mean_squared_error')\n",
    "mse_scores = -scores\n",
    "mean_mse = mse_scores.mean()\n",
    "\n",
    "print(f\"Ridge Reg Top5 + Int Mean Squared Error: {mean_mse}\")\n"
   ]
  },
  {
   "cell_type": "markdown",
   "id": "8d97a5b2",
   "metadata": {},
   "source": [
    "## Lasso Regression"
   ]
  },
  {
   "cell_type": "code",
   "execution_count": 21,
   "id": "56683bd4",
   "metadata": {},
   "outputs": [
    {
     "data": {
      "text/html": [
       "<div>\n",
       "<style scoped>\n",
       "    .dataframe tbody tr th:only-of-type {\n",
       "        vertical-align: middle;\n",
       "    }\n",
       "\n",
       "    .dataframe tbody tr th {\n",
       "        vertical-align: top;\n",
       "    }\n",
       "\n",
       "    .dataframe thead th {\n",
       "        text-align: right;\n",
       "    }\n",
       "</style>\n",
       "<table border=\"1\" class=\"dataframe\">\n",
       "  <thead>\n",
       "    <tr style=\"text-align: right;\">\n",
       "      <th></th>\n",
       "      <th>lambdas</th>\n",
       "      <th>MSE scores</th>\n",
       "    </tr>\n",
       "  </thead>\n",
       "  <tbody>\n",
       "    <tr>\n",
       "      <th>0</th>\n",
       "      <td>1</td>\n",
       "      <td>173076.934306</td>\n",
       "    </tr>\n",
       "    <tr>\n",
       "      <th>1</th>\n",
       "      <td>10</td>\n",
       "      <td>173061.634500</td>\n",
       "    </tr>\n",
       "    <tr>\n",
       "      <th>2</th>\n",
       "      <td>100</td>\n",
       "      <td>182120.311402</td>\n",
       "    </tr>\n",
       "  </tbody>\n",
       "</table>\n",
       "</div>"
      ],
      "text/plain": [
       "   lambdas     MSE scores\n",
       "0        1  173076.934306\n",
       "1       10  173061.634500\n",
       "2      100  182120.311402"
      ]
     },
     "execution_count": 21,
     "metadata": {},
     "output_type": "execute_result"
    }
   ],
   "source": [
    "# Lasso Only Hits Tuning\n",
    "# Column transformer that standardizes + creates dummies\n",
    "ct = ColumnTransformer(\n",
    "    transformers=[\n",
    "        ('Standardize', StandardScaler(), ['Hits']),\n",
    "    ], remainder = \"drop\"\n",
    ").set_output(transform = \"pandas\")\n",
    "\n",
    "# Creating pipeline\n",
    "lasso_pipelineHits = Pipeline(\n",
    "  [(\"preprocessing\", ct),\n",
    "  (\"lasso_regression\", Lasso())]\n",
    ")\n",
    "\n",
    "results = [1,10,100]\n",
    "\n",
    "lambdas = {'lasso_regression__alpha': results}\n",
    "\n",
    "gscv = GridSearchCV(lasso_pipelineHits, lambdas, cv = 5, scoring='neg_mean_squared_error')\n",
    "\n",
    "gscv_fitted = gscv.fit(X, y)\n",
    "mse_scores = -gscv_fitted.cv_results_['mean_test_score']\n",
    "pd.DataFrame(data={\"lambdas\": results, \"MSE scores\": mse_scores})"
   ]
  },
  {
   "cell_type": "code",
   "execution_count": 22,
   "id": "6622244f",
   "metadata": {},
   "outputs": [
    {
     "name": "stdout",
     "output_type": "stream",
     "text": [
      "Lasso Reg Hits Mean Squared Error: 173061.63450002926\n"
     ]
    }
   ],
   "source": [
    "# Lasso Only Hits\n",
    "\n",
    "# Creating pipeline with optimal lambda\n",
    "lasso_pipelineHits = Pipeline(\n",
    "  [(\"preprocessing\", ct),\n",
    "  (\"lasso_regression\", Lasso(alpha=10))]\n",
    ")\n",
    "\n",
    "lasso_pipelineHits.fit(X,y)\n",
    "\n",
    "scores = cross_val_score(lasso_pipelineHits, X, y, cv=5, scoring='neg_mean_squared_error')\n",
    "\n",
    "mse_scores = -scores\n",
    "mean_mse = mse_scores.mean()\n",
    "\n",
    "print(f\"Lasso Reg Hits Mean Squared Error: {mean_mse}\")"
   ]
  },
  {
   "cell_type": "code",
   "execution_count": 23,
   "id": "b20c42a5",
   "metadata": {},
   "outputs": [
    {
     "data": {
      "text/html": [
       "<div>\n",
       "<style scoped>\n",
       "    .dataframe tbody tr th:only-of-type {\n",
       "        vertical-align: middle;\n",
       "    }\n",
       "\n",
       "    .dataframe tbody tr th {\n",
       "        vertical-align: top;\n",
       "    }\n",
       "\n",
       "    .dataframe thead th {\n",
       "        text-align: right;\n",
       "    }\n",
       "</style>\n",
       "<table border=\"1\" class=\"dataframe\">\n",
       "  <thead>\n",
       "    <tr style=\"text-align: right;\">\n",
       "      <th></th>\n",
       "      <th>lambdas</th>\n",
       "      <th>MSE scores</th>\n",
       "    </tr>\n",
       "  </thead>\n",
       "  <tbody>\n",
       "    <tr>\n",
       "      <th>0</th>\n",
       "      <td>1.000000e-07</td>\n",
       "      <td>121965.386815</td>\n",
       "    </tr>\n",
       "    <tr>\n",
       "      <th>1</th>\n",
       "      <td>1.000000e-06</td>\n",
       "      <td>121965.387148</td>\n",
       "    </tr>\n",
       "    <tr>\n",
       "      <th>2</th>\n",
       "      <td>1.000000e-05</td>\n",
       "      <td>121965.388535</td>\n",
       "    </tr>\n",
       "    <tr>\n",
       "      <th>3</th>\n",
       "      <td>1.000000e-04</td>\n",
       "      <td>121965.400834</td>\n",
       "    </tr>\n",
       "  </tbody>\n",
       "</table>\n",
       "</div>"
      ],
      "text/plain": [
       "        lambdas     MSE scores\n",
       "0  1.000000e-07  121965.386815\n",
       "1  1.000000e-06  121965.387148\n",
       "2  1.000000e-05  121965.388535\n",
       "3  1.000000e-04  121965.400834"
      ]
     },
     "execution_count": 23,
     "metadata": {},
     "output_type": "execute_result"
    }
   ],
   "source": [
    "#Lasso Top 5 Tuning\n",
    "# Column transformer that standardizes + creates dummies\n",
    "ct = ColumnTransformer(\n",
    "    transformers=[\n",
    "        ('Standardize', StandardScaler(), ['Hits','CRBI','CRuns','AtBat','Years']),\n",
    "    ], remainder = \"drop\"\n",
    ").set_output(transform = \"pandas\")\n",
    "\n",
    "# Creating pipeline\n",
    "lasso_pipelineTop5 = Pipeline(\n",
    "  [(\"preprocessing\", ct),\n",
    "  (\"lasso_regression\", Lasso())]\n",
    ")\n",
    "\n",
    "results = [.0000001,.000001,.00001,.0001]\n",
    "\n",
    "lambdas = {'lasso_regression__alpha': results}\n",
    "\n",
    "gscv = GridSearchCV(lasso_pipelineTop5, lambdas, cv = 5, scoring='neg_mean_squared_error')\n",
    "\n",
    "gscv_fitted = gscv.fit(X, y)\n",
    "mse_scores = -gscv_fitted.cv_results_['mean_test_score']\n",
    "pd.DataFrame(data={\"lambdas\": results, \"MSE scores\": mse_scores})"
   ]
  },
  {
   "cell_type": "code",
   "execution_count": 24,
   "id": "dd9d0e24",
   "metadata": {},
   "outputs": [
    {
     "name": "stdout",
     "output_type": "stream",
     "text": [
      "Lasso Reg Top5 Mean Squared Error: 121965.3871482743\n"
     ]
    }
   ],
   "source": [
    "#Lasso Top 5\n",
    "# Column transformer that standardizes + creates dummies\n",
    "\n",
    "# Creating pipeline with optimal lambda\n",
    "lasso_pipelineTop5 = Pipeline(\n",
    "  [(\"preprocessing\", ct),\n",
    "  (\"ridge_regression\", Lasso(alpha=.000001))]\n",
    ")\n",
    "\n",
    "lasso_pipelineTop5.fit(X,y)\n",
    "\n",
    "scores = cross_val_score(lasso_pipelineTop5, X, y, cv=5, scoring='neg_mean_squared_error')\n",
    "\n",
    "mse_scores = -scores\n",
    "mean_mse = mse_scores.mean()\n",
    "\n",
    "print(f\"Lasso Reg Top5 Mean Squared Error: {mean_mse}\")\n"
   ]
  },
  {
   "cell_type": "code",
   "execution_count": 36,
   "id": "956667fb",
   "metadata": {},
   "outputs": [
    {
     "data": {
      "text/html": [
       "<div>\n",
       "<style scoped>\n",
       "    .dataframe tbody tr th:only-of-type {\n",
       "        vertical-align: middle;\n",
       "    }\n",
       "\n",
       "    .dataframe tbody tr th {\n",
       "        vertical-align: top;\n",
       "    }\n",
       "\n",
       "    .dataframe thead th {\n",
       "        text-align: right;\n",
       "    }\n",
       "</style>\n",
       "<table border=\"1\" class=\"dataframe\">\n",
       "  <thead>\n",
       "    <tr style=\"text-align: right;\">\n",
       "      <th></th>\n",
       "      <th>lambdas</th>\n",
       "      <th>MSE scores</th>\n",
       "    </tr>\n",
       "  </thead>\n",
       "  <tbody>\n",
       "    <tr>\n",
       "      <th>0</th>\n",
       "      <td>0.1</td>\n",
       "      <td>122590.111062</td>\n",
       "    </tr>\n",
       "    <tr>\n",
       "      <th>1</th>\n",
       "      <td>1.0</td>\n",
       "      <td>119877.710933</td>\n",
       "    </tr>\n",
       "    <tr>\n",
       "      <th>2</th>\n",
       "      <td>10.0</td>\n",
       "      <td>123002.980146</td>\n",
       "    </tr>\n",
       "    <tr>\n",
       "      <th>3</th>\n",
       "      <td>100.0</td>\n",
       "      <td>144285.535620</td>\n",
       "    </tr>\n",
       "  </tbody>\n",
       "</table>\n",
       "</div>"
      ],
      "text/plain": [
       "   lambdas     MSE scores\n",
       "0      0.1  122590.111062\n",
       "1      1.0  119877.710933\n",
       "2     10.0  123002.980146\n",
       "3    100.0  144285.535620"
      ]
     },
     "execution_count": 36,
     "metadata": {},
     "output_type": "execute_result"
    }
   ],
   "source": [
    "#Lasso Top 5 + Interaction Tuning\n",
    "# Column transformer that standardizes + creates dummies\n",
    "ct = ColumnTransformer(\n",
    "    transformers=[\n",
    "        (\"dummify\", OneHotEncoder(sparse_output = False), [\"Division\"]),\n",
    "        ('Standardize', StandardScaler(), ['Hits','CRBI','CRuns','AtBat','Years']),\n",
    "    ], remainder = \"passthrough\"\n",
    ").set_output(transform = \"pandas\")\n",
    "\n",
    "ct_inter = ColumnTransformer(\n",
    "  [\n",
    "    (\"interaction1\", PolynomialFeatures(interaction_only = True), [\"Standardize__Hits\", \"dummify__Division_E\"]),\n",
    "    (\"interaction2\", PolynomialFeatures(interaction_only = True), [\"Standardize__CRBI\", \"dummify__Division_E\"]),\n",
    "    (\"interaction3\", PolynomialFeatures(interaction_only = True), [\"Standardize__CRuns\", \"dummify__Division_E\"]),\n",
    "    (\"interaction4\", PolynomialFeatures(interaction_only = True), [\"Standardize__AtBat\", \"dummify__Division_E\"]),\n",
    "    (\"interaction5\", PolynomialFeatures(interaction_only = True), [\"Standardize__Years\", \"dummify__Division_E\"]),\n",
    "  ],\n",
    "  remainder = \"drop\"\n",
    ").set_output(transform = \"pandas\")\n",
    "\n",
    "# Creates pipeline\n",
    "lasso_pipelineTop5int = Pipeline([\n",
    "    ('preprocessing', ct),\n",
    "   (\"interaction\", ct_inter),\n",
    "    ('lasso_regression', Lasso())\n",
    "])\n",
    "\n",
    "results = [0.1,1,10,100]\n",
    "\n",
    "lambdas = {'lasso_regression__alpha': results}\n",
    "\n",
    "gscv = GridSearchCV(lasso_pipelineTop5int, lambdas, cv = 5, scoring='neg_mean_squared_error')\n",
    "\n",
    "gscv_fitted = gscv.fit(X, y)\n",
    "mse_scores = -gscv_fitted.cv_results_['mean_test_score']\n",
    "pd.DataFrame(data={\"lambdas\": results, \"MSE scores\": mse_scores})"
   ]
  },
  {
   "cell_type": "code",
   "execution_count": 38,
   "id": "bdcfe1eb",
   "metadata": {},
   "outputs": [
    {
     "name": "stdout",
     "output_type": "stream",
     "text": [
      "Lasso Reg Top5 + Int Mean Squared Error: 119877.71093255976\n"
     ]
    }
   ],
   "source": [
    "#Lasso Top 5 + Interaction\n",
    "# Creates pipeline\n",
    "lasso_pipelineTop5int = Pipeline([\n",
    "    ('preprocessing', ct),\n",
    "   (\"interaction\", ct_inter),\n",
    "    ('Lasso_regression', Lasso(alpha=1))\n",
    "])\n",
    "\n",
    "lasso_pipelineTop5int.fit(X,y)\n",
    "\n",
    "scores = cross_val_score(lasso_pipelineTop5int, X, y, cv=5, scoring='neg_mean_squared_error')\n",
    "mse_scores = -scores\n",
    "mean_mse = mse_scores.mean()\n",
    "\n",
    "print(f\"Lasso Reg Top5 + Int Mean Squared Error: {mean_mse}\")\n"
   ]
  },
  {
   "cell_type": "markdown",
   "id": "1a08acf6",
   "metadata": {},
   "source": [
    "## Elastic Net"
   ]
  },
  {
   "cell_type": "code",
   "execution_count": 27,
   "id": "db1e378e",
   "metadata": {},
   "outputs": [
    {
     "data": {
      "text/html": [
       "<div>\n",
       "<style scoped>\n",
       "    .dataframe tbody tr th:only-of-type {\n",
       "        vertical-align: middle;\n",
       "    }\n",
       "\n",
       "    .dataframe tbody tr th {\n",
       "        vertical-align: top;\n",
       "    }\n",
       "\n",
       "    .dataframe thead th {\n",
       "        text-align: right;\n",
       "    }\n",
       "</style>\n",
       "<table border=\"1\" class=\"dataframe\">\n",
       "  <thead>\n",
       "    <tr style=\"text-align: right;\">\n",
       "      <th></th>\n",
       "      <th>alpha</th>\n",
       "      <th>l1_ratio</th>\n",
       "      <th>mean_squared_error</th>\n",
       "    </tr>\n",
       "  </thead>\n",
       "  <tbody>\n",
       "    <tr>\n",
       "      <th>10</th>\n",
       "      <td>0.12</td>\n",
       "      <td>0.01</td>\n",
       "      <td>172569.569811</td>\n",
       "    </tr>\n",
       "    <tr>\n",
       "      <th>24</th>\n",
       "      <td>0.23</td>\n",
       "      <td>0.45</td>\n",
       "      <td>172571.467365</td>\n",
       "    </tr>\n",
       "    <tr>\n",
       "      <th>36</th>\n",
       "      <td>0.34</td>\n",
       "      <td>0.67</td>\n",
       "      <td>172578.968935</td>\n",
       "    </tr>\n",
       "  </tbody>\n",
       "</table>\n",
       "</div>"
      ],
      "text/plain": [
       "   alpha l1_ratio  mean_squared_error\n",
       "10  0.12     0.01       172569.569811\n",
       "24  0.23     0.45       172571.467365\n",
       "36  0.34     0.67       172578.968935"
      ]
     },
     "execution_count": 27,
     "metadata": {},
     "output_type": "execute_result"
    }
   ],
   "source": [
    "# Elastic Net Only Hits Tuning\n",
    "# Column transformer that standardizes + creates dummies\n",
    "ct = ColumnTransformer(\n",
    "    transformers=[\n",
    "        ('Standardize', StandardScaler(), ['Hits']),\n",
    "    ], remainder = \"drop\"\n",
    ").set_output(transform = \"pandas\")\n",
    "\n",
    "\n",
    "# Creating pipeline\n",
    "enet_pipelineHits = Pipeline(\n",
    "  [(\"preprocessing\", ct),\n",
    "   (\"enet_regression\", ElasticNet(max_iter=100000, tol=0.1))]\n",
    ")\n",
    "\n",
    "# Define the parameter grid\n",
    "lambdas = {\n",
    "    'enet_regression__alpha': np.linspace(0.01, 1, 10),\n",
    "    'enet_regression__l1_ratio': np.linspace(0.01, 1, 10)\n",
    "}\n",
    "\n",
    "# Using enet_pipeline in GridSearchCV\n",
    "gscv = GridSearchCV(enet_pipelineHits, lambdas, cv=5, scoring='neg_mean_squared_error')\n",
    "\n",
    "gscv_fitted = gscv.fit(X,y)\n",
    "\n",
    "# Extracting results\n",
    "results = gscv.cv_results_\n",
    "\n",
    "# Creating a DataFrame\n",
    "df = pd.DataFrame({\n",
    "    'alpha': results['param_enet_regression__alpha'],\n",
    "    'l1_ratio': results['param_enet_regression__l1_ratio'],\n",
    "    'mean_squared_error': -results['mean_test_score']  # Negating because scores are negative MSE\n",
    "})\n",
    "\n",
    "results_df = df.sort_values(by='mean_squared_error')\n",
    "results_df.head(3)"
   ]
  },
  {
   "cell_type": "code",
   "execution_count": 28,
   "id": "a5a70f45",
   "metadata": {},
   "outputs": [
    {
     "name": "stdout",
     "output_type": "stream",
     "text": [
      "Elastic Net Hits Mean Squared Error: 173061.63450002926\n"
     ]
    }
   ],
   "source": [
    "# Elastic Net Only Hits\n",
    "\n",
    "# Creating pipeline\n",
    "enet_pipelineHits = Pipeline(\n",
    "  [(\"preprocessing\", ct),\n",
    "   (\"enet_regression\", ElasticNet(alpha=0.33, l1_ratio=0.67, max_iter=100000, tol=0.1))]\n",
    ")\n",
    "\n",
    "enet_pipelineHits.fit(X,y)\n",
    "\n",
    "scores = cross_val_score(lasso_pipelineHits, X, y, cv=5, scoring='neg_mean_squared_error')\n",
    "\n",
    "mse_scores = -scores\n",
    "mean_mse = mse_scores.mean()\n",
    "\n",
    "print(f\"Elastic Net Hits Mean Squared Error: {mean_mse}\")"
   ]
  },
  {
   "cell_type": "code",
   "execution_count": 29,
   "id": "c615e67a",
   "metadata": {},
   "outputs": [
    {
     "data": {
      "text/html": [
       "<div>\n",
       "<style scoped>\n",
       "    .dataframe tbody tr th:only-of-type {\n",
       "        vertical-align: middle;\n",
       "    }\n",
       "\n",
       "    .dataframe tbody tr th {\n",
       "        vertical-align: top;\n",
       "    }\n",
       "\n",
       "    .dataframe thead th {\n",
       "        text-align: right;\n",
       "    }\n",
       "</style>\n",
       "<table border=\"1\" class=\"dataframe\">\n",
       "  <thead>\n",
       "    <tr style=\"text-align: right;\">\n",
       "      <th></th>\n",
       "      <th>alpha</th>\n",
       "      <th>l1_ratio</th>\n",
       "      <th>mean_squared_error</th>\n",
       "    </tr>\n",
       "  </thead>\n",
       "  <tbody>\n",
       "    <tr>\n",
       "      <th>8</th>\n",
       "      <td>0.1</td>\n",
       "      <td>0.9</td>\n",
       "      <td>121810.622067</td>\n",
       "    </tr>\n",
       "    <tr>\n",
       "      <th>7</th>\n",
       "      <td>0.1</td>\n",
       "      <td>0.8</td>\n",
       "      <td>122005.489226</td>\n",
       "    </tr>\n",
       "    <tr>\n",
       "      <th>99</th>\n",
       "      <td>1.0</td>\n",
       "      <td>1.0</td>\n",
       "      <td>122008.500762</td>\n",
       "    </tr>\n",
       "  </tbody>\n",
       "</table>\n",
       "</div>"
      ],
      "text/plain": [
       "   alpha l1_ratio  mean_squared_error\n",
       "8    0.1      0.9       121810.622067\n",
       "7    0.1      0.8       122005.489226\n",
       "99   1.0      1.0       122008.500762"
      ]
     },
     "execution_count": 29,
     "metadata": {},
     "output_type": "execute_result"
    }
   ],
   "source": [
    "#Elastic Net Top 5 Tuning\n",
    "# Column transformer that standardizes + creates dummies\n",
    "ct = ColumnTransformer(\n",
    "    transformers=[\n",
    "        ('Standardize', StandardScaler(), ['Hits','CRBI','CRuns','AtBat','Years']),\n",
    "    ], remainder = \"drop\"\n",
    ").set_output(transform = \"pandas\")\n",
    "\n",
    "# Creating pipeline\n",
    "enet_pipelineTop5 = Pipeline(\n",
    "  [(\"preprocessing\", ct),\n",
    "   (\"enet_regression\", ElasticNet(max_iter=10000, tol=0.1))]\n",
    ")\n",
    "\n",
    "# Define the parameter grid\n",
    "lambdas = {\n",
    "    'enet_regression__alpha': np.linspace(0.1, 1, 10),\n",
    "    'enet_regression__l1_ratio': np.linspace(0.1, 1, 10)\n",
    "}\n",
    "\n",
    "# Using enet_pipeline in GridSearchCV\n",
    "gscv = GridSearchCV(enet_pipelineTop5, lambdas, cv=5, scoring='neg_mean_squared_error')\n",
    "\n",
    "gscv_fitted = gscv.fit(X,y)\n",
    "\n",
    "# Extracting results\n",
    "results = gscv.cv_results_\n",
    "\n",
    "# Creating a DataFrame\n",
    "df = pd.DataFrame({\n",
    "    'alpha': results['param_enet_regression__alpha'],\n",
    "    'l1_ratio': results['param_enet_regression__l1_ratio'],\n",
    "    'mean_squared_error': -results['mean_test_score']  # Negating because scores are negative MSE\n",
    "})\n",
    "\n",
    "results_df = df.sort_values(by='mean_squared_error')\n",
    "results_df.head(3)"
   ]
  },
  {
   "cell_type": "code",
   "execution_count": 30,
   "id": "a76b403b",
   "metadata": {},
   "outputs": [
    {
     "name": "stdout",
     "output_type": "stream",
     "text": [
      "Elastic Net Top 5 Mean Squared Error: 121810.62206661957\n"
     ]
    }
   ],
   "source": [
    "#Elastic Net Top 5 \n",
    "# Creating pipeline\n",
    "enet_pipelineTop5 = Pipeline(\n",
    "  [(\"preprocessing\", ct),\n",
    "   (\"enet_regression\", ElasticNet(alpha=0.1, l1_ratio=0.9, max_iter=10000, tol=0.1))]\n",
    ")\n",
    "\n",
    "enet_pipelineTop5.fit(X,y)\n",
    "\n",
    "scores = cross_val_score(enet_pipelineTop5, X, y, cv=5, scoring='neg_mean_squared_error')\n",
    "\n",
    "mse_scores = -scores\n",
    "mean_mse = mse_scores.mean()\n",
    "\n",
    "print(f\"Elastic Net Top 5 Mean Squared Error: {mean_mse}\")"
   ]
  },
  {
   "cell_type": "code",
   "execution_count": 31,
   "id": "e1a63acf",
   "metadata": {},
   "outputs": [
    {
     "data": {
      "text/html": [
       "<div>\n",
       "<style scoped>\n",
       "    .dataframe tbody tr th:only-of-type {\n",
       "        vertical-align: middle;\n",
       "    }\n",
       "\n",
       "    .dataframe tbody tr th {\n",
       "        vertical-align: top;\n",
       "    }\n",
       "\n",
       "    .dataframe thead th {\n",
       "        text-align: right;\n",
       "    }\n",
       "</style>\n",
       "<table border=\"1\" class=\"dataframe\">\n",
       "  <thead>\n",
       "    <tr style=\"text-align: right;\">\n",
       "      <th></th>\n",
       "      <th>alpha</th>\n",
       "      <th>l1_ratio</th>\n",
       "      <th>mean_squared_error</th>\n",
       "    </tr>\n",
       "  </thead>\n",
       "  <tbody>\n",
       "    <tr>\n",
       "      <th>6</th>\n",
       "      <td>0.1</td>\n",
       "      <td>0.7</td>\n",
       "      <td>115789.989629</td>\n",
       "    </tr>\n",
       "    <tr>\n",
       "      <th>5</th>\n",
       "      <td>0.1</td>\n",
       "      <td>0.6</td>\n",
       "      <td>115845.199059</td>\n",
       "    </tr>\n",
       "    <tr>\n",
       "      <th>17</th>\n",
       "      <td>0.2</td>\n",
       "      <td>0.8</td>\n",
       "      <td>115906.991024</td>\n",
       "    </tr>\n",
       "    <tr>\n",
       "      <th>28</th>\n",
       "      <td>0.3</td>\n",
       "      <td>0.9</td>\n",
       "      <td>115951.686624</td>\n",
       "    </tr>\n",
       "    <tr>\n",
       "      <th>4</th>\n",
       "      <td>0.1</td>\n",
       "      <td>0.5</td>\n",
       "      <td>115976.519181</td>\n",
       "    </tr>\n",
       "  </tbody>\n",
       "</table>\n",
       "</div>"
      ],
      "text/plain": [
       "   alpha l1_ratio  mean_squared_error\n",
       "6    0.1      0.7       115789.989629\n",
       "5    0.1      0.6       115845.199059\n",
       "17   0.2      0.8       115906.991024\n",
       "28   0.3      0.9       115951.686624\n",
       "4    0.1      0.5       115976.519181"
      ]
     },
     "execution_count": 31,
     "metadata": {},
     "output_type": "execute_result"
    }
   ],
   "source": [
    "#Elastic Net Top 5 + Interaction Tuning\n",
    "# Column transformer that standardizes + creates dummies\n",
    "ct = ColumnTransformer(\n",
    "    transformers=[\n",
    "        (\"dummify\", OneHotEncoder(sparse_output = False), [\"Division\"]),\n",
    "        ('Standardize', StandardScaler(), ['Hits','CRBI','CRuns','AtBat','Years']),\n",
    "    ], remainder = \"passthrough\"\n",
    ").set_output(transform = \"pandas\")\n",
    "\n",
    "ct_inter = ColumnTransformer(\n",
    "  [\n",
    "    (\"interaction1\", PolynomialFeatures(interaction_only = True), [\"Standardize__Hits\", \"dummify__Division_E\"]),\n",
    "    (\"interaction2\", PolynomialFeatures(interaction_only = True), [\"Standardize__CRBI\", \"dummify__Division_E\"]),\n",
    "    (\"interaction3\", PolynomialFeatures(interaction_only = True), [\"Standardize__CRuns\", \"dummify__Division_E\"]),\n",
    "    (\"interaction4\", PolynomialFeatures(interaction_only = True), [\"Standardize__AtBat\", \"dummify__Division_E\"]),\n",
    "    (\"interaction5\", PolynomialFeatures(interaction_only = True), [\"Standardize__Years\", \"dummify__Division_E\"]),\n",
    "  ],\n",
    "  remainder = \"drop\"\n",
    ").set_output(transform = \"pandas\")\n",
    "\n",
    "# Creates pipeline\n",
    "enet_pipelineTop5int = Pipeline([\n",
    "    ('preprocessing', ct),\n",
    "   (\"interaction\", ct_inter),\n",
    "    (\"enet_regression\", ElasticNet(max_iter=10000, tol=0.1))\n",
    "])\n",
    "\n",
    "# Define the parameter grid\n",
    "lambdas = {\n",
    "    'enet_regression__alpha': np.linspace(0.1, 1, 10),\n",
    "    'enet_regression__l1_ratio': np.linspace(0.1, 1, 10)\n",
    "}\n",
    "\n",
    "# Using enet_pipeline in GridSearchCV\n",
    "gscv = GridSearchCV(enet_pipelineTop5int, lambdas, cv=5, scoring='neg_mean_squared_error')\n",
    "\n",
    "gscv_fitted = gscv.fit(X,y)\n",
    "\n",
    "# Extracting results\n",
    "results = gscv.cv_results_\n",
    "\n",
    "# Creating a DataFrame\n",
    "df = pd.DataFrame({\n",
    "    'alpha': results['param_enet_regression__alpha'],\n",
    "    'l1_ratio': results['param_enet_regression__l1_ratio'],\n",
    "    'mean_squared_error': -results['mean_test_score']  # Negating because scores are negative MSE\n",
    "})\n",
    "\n",
    "results_df = df.sort_values(by='mean_squared_error')\n",
    "results_df.head(5)"
   ]
  },
  {
   "cell_type": "code",
   "execution_count": 32,
   "id": "79c5a455",
   "metadata": {},
   "outputs": [
    {
     "name": "stdout",
     "output_type": "stream",
     "text": [
      "Elastic Net Top 5 + Int Mean Squared Error: 115906.9910240294\n"
     ]
    }
   ],
   "source": [
    "#Elastic Net Top 5 + Interaction\n",
    "# Creates pipeline\n",
    "enet_pipelineTop5int = Pipeline([\n",
    "    ('preprocessing', ct),\n",
    "   (\"interaction\", ct_inter),\n",
    "    (\"enet_regression\", ElasticNet(alpha=0.2,l1_ratio=0.8,max_iter=10000, tol=0.1))\n",
    "])\n",
    "\n",
    "enet_pipelineTop5int.fit(X,y)\n",
    "\n",
    "scores = cross_val_score(enet_pipelineTop5int, X, y, cv=5, scoring='neg_mean_squared_error')\n",
    "\n",
    "mse_scores = -scores\n",
    "mean_mse = mse_scores.mean()\n",
    "\n",
    "print(f\"Elastic Net Top 5 + Int Mean Squared Error: {mean_mse}\")"
   ]
  },
  {
   "cell_type": "markdown",
   "id": "1c5e0cfe",
   "metadata": {},
   "source": [
    "# Part II : Analysis"
   ]
  },
  {
   "cell_type": "markdown",
   "id": "efe45176",
   "metadata": {},
   "source": [
    "Out of all the models in part 2, the Elastic Net with the Top 5 variables + interactions performed the best based on an MSE of 115906.99 The Elastic Net model is expected to have the best result as it calibrates itself to have the best combination of Ridge and Lasso regression to reduce MSE. It is important to note that this is also the lowest MSE we have seen so far."
   ]
  },
  {
   "cell_type": "markdown",
   "id": "20e33e42",
   "metadata": {},
   "source": [
    "# Part III: Discussion"
   ]
  },
  {
   "cell_type": "markdown",
   "id": "0a5e8ab2",
   "metadata": {},
   "source": [
    "## A. Ridge"
   ]
  },
  {
   "cell_type": "markdown",
   "id": "bd1f33c2",
   "metadata": {},
   "source": [
    "The Ridge models had a lower MSE than the ordinary regression models, and also has smaller coefficients. The smaller coefficients are expected as Ridge regression is a form of penalized regression that enforces a penalty based on the amount/size of betas used."
   ]
  },
  {
   "cell_type": "markdown",
   "id": "a8b64d7e",
   "metadata": {},
   "source": [
    "## B. Lasso"
   ]
  },
  {
   "cell_type": "markdown",
   "id": "1ea2d8a1",
   "metadata": {},
   "source": [
    "The optimal lambda results differed based on what predictors were used for each of the Lasso regressions. This makes sense as with differing variables, the effect of lambda (and optimal value) would differ based on what variables are in the specific model. The model with the lowest MSE of all the Lasso models was the Top 5 + interact model with a MSE of 115922.26 "
   ]
  },
  {
   "cell_type": "markdown",
   "id": "5941eae2",
   "metadata": {},
   "source": [
    "## C. Elastic Net"
   ]
  },
  {
   "cell_type": "markdown",
   "id": "efd09747",
   "metadata": {},
   "source": [
    "The Elastic Net models performed better than the Ridge and Lasso models every time. This makes sense intuitively as the Elastic Net model is tuned to be the optimal ratio between Ridge and Lasso to achieve the lowest MSE for the specific model possible."
   ]
  },
  {
   "cell_type": "markdown",
   "id": "1a43c6a5",
   "metadata": {},
   "source": [
    "# Part IV: Final Model"
   ]
  },
  {
   "cell_type": "code",
   "execution_count": 33,
   "id": "1da0356d",
   "metadata": {},
   "outputs": [
    {
     "name": "stdout",
     "output_type": "stream",
     "text": [
      "Best Model Mean Squared Error: 115906.9910240294\n"
     ]
    }
   ],
   "source": [
    "X = baseball.drop([\"Salary\"],axis=1)\n",
    "y = baseball[\"Salary\"]\n",
    "\n",
    "#Best Model\n",
    "# Creates pipeline\n",
    "best_pipeline = Pipeline([\n",
    "    ('preprocessing', ct),\n",
    "   (\"interaction\", ct_inter),\n",
    "    (\"enet_regression\", ElasticNet(alpha=0.2,l1_ratio=0.8,max_iter=10000, tol=0.1))\n",
    "])\n",
    "\n",
    "#Fit on entire dataset\n",
    "best_pipeline.fit(X,y)\n",
    "\n",
    "scores = cross_val_score(best_pipeline, X, y, cv=5, scoring='neg_mean_squared_error')\n",
    "\n",
    "mse_scores = -scores\n",
    "mean_mse = mse_scores.mean()\n",
    "\n",
    "print(f\"Best Model Mean Squared Error: {mean_mse}\")"
   ]
  },
  {
   "cell_type": "code",
   "execution_count": 34,
   "id": "1e08768f",
   "metadata": {},
   "outputs": [
    {
     "data": {
      "image/png": "[encoded data removed]",
      "text/plain": [
       "<Figure size 640x480 with 1 Axes>"
      ]
     },
     "metadata": {
      "image/png": {
       "height": 480,
       "width": 640
      }
     },
     "output_type": "display_data"
    },
    {
     "data": {
      "text/plain": [
       "<Figure Size: (640 x 480)>"
      ]
     },
     "execution_count": 34,
     "metadata": {},
     "output_type": "execute_result"
    }
   ],
   "source": [
    "# Extract coefficients & var names\n",
    "coefficients = best_pipeline.named_steps['enet_regression'].coef_\n",
    "\n",
    "var_names = ct_inter.get_feature_names_out()\n",
    "\n",
    "# Create a DataFrame\n",
    "coef_df = pd.DataFrame({\n",
    "    'Variable': var_names,\n",
    "    'Coefficient': coefficients\n",
    "})\n",
    "\n",
    "# Filter out zero coefficients\n",
    "coef_df = coef_df[coef_df['Coefficient'] != 0]\n",
    "\n",
    "import pandas as pd\n",
    "\n",
    "# Assuming your DataFrame is named coef_df\n",
    "# Replace 'interaction' with 'int', remove underscores and spaces\n",
    "coef_df['Variable'] = coef_df['Variable'].str.replace('interaction', 'int', regex=False)\n",
    "coef_df['Variable'] = coef_df['Variable'].str.replace('Standardize', 'Std', regex=False)\n",
    "coef_df['Variable'] = coef_df['Variable'].str.replace('dummify', 'Dum', regex=False)\n",
    "coef_df['Variable'] = coef_df['Variable'].str.replace('Division', 'Div', regex=False)\n",
    "coef_df['Variable'] = coef_df['Variable'].str.replace('[ _]', '', regex=True)\n",
    "\n",
    "# Plot using plotnine\n",
    "(ggplot(coef_df, aes(x='Variable', y='Coefficient'))\n",
    " + geom_point()\n",
    " + geom_hline(yintercept=0, color=\"red\", linetype=\"dotted\")\n",
    " + theme(axis_text_x=element_text(angle=90, hjust=1))\n",
    " + ggtitle('Coefficients of The Best Model'))\n"
   ]
  },
  {
   "cell_type": "markdown",
   "id": "e6dc0616",
   "metadata": {},
   "source": [
    "The model that was most successful used the previous variables we identified that had the largest coefficients across all types of models. They are Hits, CRBI, CRuns, Years, and Division.\n",
    "\n",
    "It appears the interaction with CRBI and Division E have the greatest positive coefficient and the interaction between AtBat and Division E have the largest negative coefficient. This follows the earlier trends we saw in our previous models as CRBI was a major positive coefficient in each model, AtBats was a major negative coefficient, and Division E had the largest coefficient of all the categorical variables from the baseball dataset."
   ]
  }
 ],
 "metadata": {
  "kernelspec": {
   "display_name": "Python 3 (ipykernel)",
   "language": "python",
   "name": "python3"
  },
  "language_info": {
   "codemirror_mode": {
    "name": "ipython",
    "version": 3
   },
   "file_extension": ".py",
   "mimetype": "text/x-python",
   "name": "python",
   "nbconvert_exporter": "python",
   "pygments_lexer": "ipython3",
   "version": "3.11.3"
  }
 },
 "nbformat": 4,
 "nbformat_minor": 5
}
