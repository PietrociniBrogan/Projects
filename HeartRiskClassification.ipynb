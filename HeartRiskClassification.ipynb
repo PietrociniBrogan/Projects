{
 "cells": [
  {
   "cell_type": "raw",
   "id": "3ecebb55",
   "metadata": {},
   "source": [
    "---\n",
    "self-contained: true\n",
    "title: \"Heart Attack Classification\"\n",
    "author: \"Brogan Pietrocini\"\n",
    "fontcolor: black\n",
    "backgroundcolor: whitesmoke\n",
    "format:\n",
    "    html:\n",
    "        theme: zephyr\n",
    "---\n"
   ]
  },
  {
   "cell_type": "markdown",
   "id": "15496036",
   "metadata": {},
   "source": [
    "In this lab we are going to incorporate various classification models to predict whether is at risk of a heart attack."
   ]
  },
  {
   "cell_type": "code",
   "execution_count": 123,
   "id": "8af07207",
   "metadata": {},
   "outputs": [],
   "source": [
    "import pandas as pd\n",
    "import numpy as np\n",
    "from sklearn.pipeline import Pipeline\n",
    "from sklearn.linear_model import LogisticRegression\n",
    "from sklearn.compose import ColumnTransformer, make_column_selector\n",
    "from sklearn.preprocessing import OneHotEncoder, StandardScaler\n",
    "from sklearn.model_selection import train_test_split, GridSearchCV, cross_val_score\n",
    "from sklearn.neighbors import KNeighborsClassifier\n",
    "from sklearn.tree import DecisionTreeClassifier\n",
    "from sklearn.metrics import roc_auc_score\n",
    "from sklearn.model_selection import GridSearchCV\n",
    "from sklearn.metrics import make_scorer, roc_auc_score\n",
    "from sklearn.model_selection import cross_val_predict\n",
    "from sklearn.metrics import confusion_matrix, precision_score, recall_score\n"
   ]
  },
  {
   "cell_type": "code",
   "execution_count": 124,
   "id": "058607ed",
   "metadata": {},
   "outputs": [],
   "source": [
    "#Load and prepare data\n",
    "heart = pd.read_csv(\"https://www.dropbox.com/s/aohbr6yb9ifmc8w/heart_attack.csv?dl=1\")\n",
    "heart = heart.dropna()\n",
    "heart.rename(columns={'output': 'risk', 'cp': 'chestpain', 'trtbps': 'rbps', 'thalach': 'maxrate'}, inplace=True)\n",
    "heart['risk'] = heart['risk'].astype('category')\n",
    "heart['sex'] = heart['sex'].astype('category')\n",
    "heart['chestpain'] = heart['chestpain'].astype('category')\n",
    "heart['restecg'] = heart['restecg'].astype('category')"
   ]
  },
  {
   "cell_type": "markdown",
   "id": "54807be4",
   "metadata": {},
   "source": [
    "# Part One: Fitting Models"
   ]
  },
  {
   "cell_type": "code",
   "execution_count": 125,
   "id": "dd1053a9",
   "metadata": {},
   "outputs": [],
   "source": [
    "X = heart.drop(['risk'],axis=1)\n",
    "y = heart[\"risk\"]\n",
    "\n",
    "X_train, X_test, y_train, y_test = train_test_split(X, y, test_size=0.6, random_state=1)"
   ]
  },
  {
   "cell_type": "code",
   "execution_count": 126,
   "id": "395443ad",
   "metadata": {},
   "outputs": [],
   "source": [
    "ct = ColumnTransformer(\n",
    "  [\n",
    "    (\"dummify\", OneHotEncoder(sparse_output = False, handle_unknown='ignore'),\n",
    "    make_column_selector(dtype_include='category')), \n",
    "    (\"standardize\", StandardScaler(),make_column_selector(dtype_include=np.number)) \n",
    "  ],\n",
    "  remainder = \"passthrough\"\n",
    ")"
   ]
  },
  {
   "cell_type": "markdown",
   "id": "ae09e60f",
   "metadata": {},
   "source": [
    "## KNN"
   ]
  },
  {
   "cell_type": "code",
   "execution_count": 127,
   "id": "811471ff",
   "metadata": {},
   "outputs": [
    {
     "data": {
      "text/html": [
       "<div>\n",
       "<style scoped>\n",
       "    .dataframe tbody tr th:only-of-type {\n",
       "        vertical-align: middle;\n",
       "    }\n",
       "\n",
       "    .dataframe tbody tr th {\n",
       "        vertical-align: top;\n",
       "    }\n",
       "\n",
       "    .dataframe thead th {\n",
       "        text-align: right;\n",
       "    }\n",
       "</style>\n",
       "<table border=\"1\" class=\"dataframe\">\n",
       "  <thead>\n",
       "    <tr style=\"text-align: right;\">\n",
       "      <th></th>\n",
       "      <th>k values</th>\n",
       "      <th>ROC AUC scores</th>\n",
       "    </tr>\n",
       "  </thead>\n",
       "  <tbody>\n",
       "    <tr>\n",
       "      <th>0</th>\n",
       "      <td>10</td>\n",
       "      <td>0.806738</td>\n",
       "    </tr>\n",
       "    <tr>\n",
       "      <th>1</th>\n",
       "      <td>25</td>\n",
       "      <td>0.820328</td>\n",
       "    </tr>\n",
       "    <tr>\n",
       "      <th>2</th>\n",
       "      <td>50</td>\n",
       "      <td>0.822251</td>\n",
       "    </tr>\n",
       "    <tr>\n",
       "      <th>3</th>\n",
       "      <td>100</td>\n",
       "      <td>0.816696</td>\n",
       "    </tr>\n",
       "  </tbody>\n",
       "</table>\n",
       "</div>"
      ],
      "text/plain": [
       "   k values  ROC AUC scores\n",
       "0        10        0.806738\n",
       "1        25        0.820328\n",
       "2        50        0.822251\n",
       "3       100        0.816696"
      ]
     },
     "execution_count": 127,
     "metadata": {},
     "output_type": "execute_result"
    }
   ],
   "source": [
    "#Tune to find optimal k\n",
    "\n",
    "knn_pipeline = Pipeline(\n",
    "    [(\"preprocessing\", ct),\n",
    "     (\"knn\", KNeighborsClassifier())]\n",
    ")\n",
    "\n",
    "k_values = [10, 25, 50, 100]  \n",
    "\n",
    "# Parameter grid for GridSearchCV\n",
    "k_param = {'knn__n_neighbors': k_values}\n",
    "\n",
    "gscv = GridSearchCV(knn_pipeline, k_param, cv=5, scoring='roc_auc')\n",
    "\n",
    "#Fit to data\n",
    "gscv_fitted = gscv.fit(X, y)\n",
    "\n",
    "roc_auc_scores = gscv_fitted.cv_results_['mean_test_score']\n",
    "\n",
    "pd.DataFrame(data={\"k values\": k_values, \"ROC AUC scores\": roc_auc_scores})\n"
   ]
  },
  {
   "cell_type": "code",
   "execution_count": 128,
   "id": "2b9fac4b",
   "metadata": {},
   "outputs": [
    {
     "name": "stdout",
     "output_type": "stream",
     "text": [
      "KNN ROC AUC: 0.8222514588859416\n",
      "Confusion Matrix:\n",
      "[[49 30]\n",
      " [18 67]]\n"
     ]
    }
   ],
   "source": [
    "#Using optimal k = 50\n",
    "\n",
    "knn_pipeline50 = Pipeline(\n",
    "    [(\"preprocessing\", ct),\n",
    "     (\"knn\", KNeighborsClassifier(n_neighbors=50))]\n",
    ")\n",
    "\n",
    "#Fit on data\n",
    "knn_model = knn_pipeline50.fit(X_train,y_train)\n",
    "\n",
    "#Get AUC ROC score\n",
    "scoresknn = cross_val_score(knn_model, X, y, cv=5, scoring='roc_auc')\n",
    "\n",
    "knn_rocauc = scoresknn.mean()\n",
    "\n",
    "print(f\"KNN ROC AUC: {knn_rocauc}\")\n",
    "\n",
    "knn_ypred = knn_pipeline50.predict(X_test)\n",
    "\n",
    "#Confusion matrix\n",
    "knnconf_matrix = confusion_matrix(y_test, knn_ypred)\n",
    "\n",
    "# Print the confusion matrix\n",
    "print(\"Confusion Matrix:\")\n",
    "print(knnconf_matrix)\n"
   ]
  },
  {
   "cell_type": "markdown",
   "id": "ae25ce35",
   "metadata": {},
   "source": [
    "For the KNN model with k = 50, we get a ROC-AUC value of 82.22, which means our model is more effective than random guessing by a pretty significant margin."
   ]
  },
  {
   "cell_type": "markdown",
   "id": "8674aa27",
   "metadata": {},
   "source": [
    "## Logistic Regression"
   ]
  },
  {
   "cell_type": "code",
   "execution_count": 129,
   "id": "6b293a87",
   "metadata": {},
   "outputs": [
    {
     "name": "stdout",
     "output_type": "stream",
     "text": [
      "Logistic Regression ROC AUC: 0.864367816091954\n",
      "Confusion Matrix:\n",
      "[[53 26]\n",
      " [12 73]]\n"
     ]
    }
   ],
   "source": [
    "#Logistic Regression\n",
    "\n",
    "log_pipeline = Pipeline(\n",
    "    [\n",
    "        (\"preprocessing\", ct),\n",
    "        (\"logistic_regression\", LogisticRegression())\n",
    "    ]\n",
    ")\n",
    "\n",
    "#Fit on data\n",
    "log_model = log_pipeline.fit(X_train,y_train)\n",
    "\n",
    "#Get AUC ROC score\n",
    "scoreslog = cross_val_score(log_model, X, y, cv=5, scoring='roc_auc')\n",
    "\n",
    "log_rocauc = scoreslog.mean()\n",
    "\n",
    "print(f\"Logistic Regression ROC AUC: {log_rocauc}\")\n",
    "\n",
    "log_ypred = log_pipeline.predict(X_test)\n",
    "\n",
    "#Confusion matrix\n",
    "logconf_matrix = confusion_matrix(y_test, log_ypred)\n",
    "\n",
    "# Print the confusion matrix\n",
    "print(\"Confusion Matrix:\")\n",
    "print(logconf_matrix)\n"
   ]
  },
  {
   "cell_type": "markdown",
   "id": "7204f6e3",
   "metadata": {},
   "source": [
    "For the logistic model, we get a ROC-AUC value of 86.44, which means our model is more effective than random guessing by a pretty significant margin. This model also has the highest ROC-AUC value compared to all of our other models."
   ]
  },
  {
   "cell_type": "code",
   "execution_count": 130,
   "id": "9025b287",
   "metadata": {},
   "outputs": [
    {
     "name": "stdout",
     "output_type": "stream",
     "text": [
      "Logistic Model coefficients:\n",
      "dummify__sex_0: 1.2494597475481328\n",
      "dummify__sex_1: -1.249443492915082\n",
      "dummify__chestpain_0: -1.3572020164312808\n",
      "dummify__chestpain_1: 0.543159218822732\n",
      "dummify__chestpain_2: 0.198562408620193\n",
      "dummify__chestpain_3: 0.6154966436214073\n",
      "dummify__restecg_0: 0.09225832047698646\n",
      "dummify__restecg_1: 0.1558590724526854\n",
      "dummify__restecg_2: -0.24810113829662075\n",
      "standardize__age: -0.3374487760960095\n",
      "standardize__rbps: -0.37029739792858163\n",
      "standardize__chol: -0.39992188546480173\n",
      "standardize__maxrate: 0.7823397273648653\n"
     ]
    }
   ],
   "source": [
    "# Display coefficients and var names\n",
    "logistic_model = log_pipeline.named_steps['logistic_regression']\n",
    "\n",
    "# Retrieve the coefficients and feature names\n",
    "coefficients = logistic_model.coef_[0]\n",
    "\n",
    "feature_names = ct.get_feature_names_out()\n",
    "\n",
    "# Print coefficients with feature names\n",
    "print(\"Logistic Model coefficients:\")\n",
    "for name, coef in zip(feature_names, coefficients):\n",
    "    print(f\"{name}: {coef}\")"
   ]
  },
  {
   "cell_type": "markdown",
   "id": "f97b6b88",
   "metadata": {},
   "source": [
    "## Decision Tree"
   ]
  },
  {
   "cell_type": "code",
   "execution_count": 131,
   "id": "d519a1cb",
   "metadata": {},
   "outputs": [
    {
     "data": {
      "text/html": [
       "<div>\n",
       "<style scoped>\n",
       "    .dataframe tbody tr th:only-of-type {\n",
       "        vertical-align: middle;\n",
       "    }\n",
       "\n",
       "    .dataframe tbody tr th {\n",
       "        vertical-align: top;\n",
       "    }\n",
       "\n",
       "    .dataframe thead th {\n",
       "        text-align: right;\n",
       "    }\n",
       "</style>\n",
       "<table border=\"1\" class=\"dataframe\">\n",
       "  <thead>\n",
       "    <tr style=\"text-align: right;\">\n",
       "      <th></th>\n",
       "      <th>min_samples_leaf</th>\n",
       "      <th>ROC AUC scores</th>\n",
       "    </tr>\n",
       "  </thead>\n",
       "  <tbody>\n",
       "    <tr>\n",
       "      <th>0</th>\n",
       "      <td>10</td>\n",
       "      <td>0.795710</td>\n",
       "    </tr>\n",
       "    <tr>\n",
       "      <th>1</th>\n",
       "      <td>20</td>\n",
       "      <td>0.810608</td>\n",
       "    </tr>\n",
       "    <tr>\n",
       "      <th>2</th>\n",
       "      <td>25</td>\n",
       "      <td>0.814125</td>\n",
       "    </tr>\n",
       "    <tr>\n",
       "      <th>3</th>\n",
       "      <td>35</td>\n",
       "      <td>0.819434</td>\n",
       "    </tr>\n",
       "    <tr>\n",
       "      <th>4</th>\n",
       "      <td>50</td>\n",
       "      <td>0.791481</td>\n",
       "    </tr>\n",
       "  </tbody>\n",
       "</table>\n",
       "</div>"
      ],
      "text/plain": [
       "   min_samples_leaf  ROC AUC scores\n",
       "0                10        0.795710\n",
       "1                20        0.810608\n",
       "2                25        0.814125\n",
       "3                35        0.819434\n",
       "4                50        0.791481"
      ]
     },
     "execution_count": 131,
     "metadata": {},
     "output_type": "execute_result"
    }
   ],
   "source": [
    "#Tune to find optimal min_samples_leaf\n",
    "\n",
    "#Remove standardization from column transformer\n",
    "ct_decision = ColumnTransformer(\n",
    "  [\n",
    "    (\"dummify\", OneHotEncoder(sparse_output = False, handle_unknown='ignore'),\n",
    "    make_column_selector(dtype_include='category')) \n",
    "  ],\n",
    "  remainder = \"passthrough\"\n",
    ")\n",
    "\n",
    "# Create a Decision Tree pipeline\n",
    "dt_pipeline = Pipeline([\n",
    "    (\"preprocessing\", ct_decision),\n",
    "    (\"decision_tree\", DecisionTreeClassifier())\n",
    "])\n",
    "\n",
    "leaf_values = [10,20,25, 35, 50]\n",
    "\n",
    "leaf_param = {\n",
    "    'decision_tree__min_samples_leaf': leaf_values\n",
    "}\n",
    "\n",
    "gscv = GridSearchCV(dt_pipeline, leaf_param, cv=5, scoring='roc_auc')\n",
    "\n",
    "gscv.fit(X, y)\n",
    "\n",
    "roc_auc_scores = gscv.cv_results_['mean_test_score']\n",
    "\n",
    "results_df = pd.DataFrame(data={\"min_samples_leaf\": leaf_values, \"ROC AUC scores\": roc_auc_scores})\n",
    "\n",
    "results_df\n"
   ]
  },
  {
   "cell_type": "code",
   "execution_count": 132,
   "id": "3889a526",
   "metadata": {},
   "outputs": [
    {
     "name": "stdout",
     "output_type": "stream",
     "text": [
      "Decision Tree ROC AUC: 0.8186337754199823\n",
      "Confusion Matrix:\n",
      "[[53 26]\n",
      " [30 55]]\n"
     ]
    }
   ],
   "source": [
    "# Optimal min samples = 35\n",
    "\n",
    "dt_pipeline35 = Pipeline([\n",
    "    (\"preprocessing\", ct_decision),\n",
    "    (\"decision_tree\", DecisionTreeClassifier(min_samples_leaf=35))\n",
    "])\n",
    "\n",
    "#Fit on data\n",
    "dt_model = dt_pipeline35.fit(X_train,y_train)\n",
    "\n",
    "#Get AUC ROC score\n",
    "scoresdt = cross_val_score(dt_model, X, y, cv=5, scoring='roc_auc')\n",
    "\n",
    "dt_rocauc = scoresdt.mean()\n",
    "\n",
    "print(f\"Decision Tree ROC AUC: {dt_rocauc}\")\n",
    "\n",
    "dt_ypred = dt_pipeline35.predict(X_test)\n",
    "\n",
    "#Confusion matrix\n",
    "dtconf_matrix = confusion_matrix(y_test, dt_ypred)\n",
    "\n",
    "# Print the confusion matrix\n",
    "print(\"Confusion Matrix:\")\n",
    "print(dtconf_matrix)\n"
   ]
  },
  {
   "cell_type": "code",
   "execution_count": 133,
   "id": "402d6d26",
   "metadata": {},
   "outputs": [
    {
     "data": {
      "image/png": "[encoded data removed]",
      "text/plain": [
       "<Figure size 1000x600 with 1 Axes>"
      ]
     },
     "metadata": {},
     "output_type": "display_data"
    }
   ],
   "source": [
    "import matplotlib.pyplot as plt\n",
    "from sklearn.tree import plot_tree\n",
    "\n",
    "# Extract decision tree model \n",
    "decision_tree_model = dt_pipeline35.named_steps[\"decision_tree\"]\n",
    "\n",
    "\n",
    "# Plot \n",
    "plt.figure(figsize=(10, 6))  \n",
    "plot_tree(decision_tree_model, \n",
    "          filled=True, \n",
    "          feature_names=feature_names, \n",
    "          class_names=['Not at Risk', 'At Risk']\n",
    "         )\n",
    "plt.show()\n"
   ]
  },
  {
   "cell_type": "markdown",
   "id": "53034f92",
   "metadata": {},
   "source": [
    "For the Decision Tree model with min_samples_leaf = 35, we get a ROC-AUC value of 81.86, which means our model is more effective than random guessing by a pretty significant margin, but also has the lowest ROC-AUC value so far."
   ]
  },
  {
   "cell_type": "markdown",
   "id": "512e79d7",
   "metadata": {},
   "source": [
    "# Interpretations"
   ]
  },
  {
   "cell_type": "markdown",
   "id": "3778aee9",
   "metadata": {},
   "source": [
    "The most important variables in predicting whether an individual is at risk of a heart attack were the following: \n",
    "\n",
    "In the logistic regression model, the largest negative coefficient (-1.36) was the typical angina chest pain indicator (chestpain = 0). All other types of chest pain had positive coefficients which suggests the other types of pain are more likely to be at risk of a heart attack given the model. Furthermore, the 'sex' variable had large coefficients with values of 1.24 (0) and -1.24 (1) suggesting that being a female reduces the chance of an indivual being at risk which makes sense intuitively as more men are at risk of a heart attack. Lastly, the maximimum heart rate of an individual had a relatively large coefficient (0.78) and makes sense as an important predictor variable as higher heart rates are present in stressed out or unhealthy individuals.\n",
    "\n",
    "In the Decision Tree, the maximum heart rate variable was the most important classifier, and after tuning min_samples_leaf was set to 35 to optimize ROC-AUC value. According to the model, the tree splits on a max heart rate of 151."
   ]
  },
  {
   "cell_type": "markdown",
   "id": "1bf3edb6",
   "metadata": {},
   "source": [
    "## ROC Curve Plots"
   ]
  },
  {
   "cell_type": "code",
   "execution_count": 134,
   "id": "1fed01e3",
   "metadata": {},
   "outputs": [
    {
     "data": {
      "image/png": "[encoded data removed]",
      "text/plain": [
       "<Figure size 800x600 with 1 Axes>"
      ]
     },
     "metadata": {},
     "output_type": "display_data"
    },
    {
     "name": "stdout",
     "output_type": "stream",
     "text": [
      "KNN ROC AUC: 0.81\n"
     ]
    }
   ],
   "source": [
    "import matplotlib.pyplot as plt\n",
    "from sklearn.metrics import roc_curve, auc\n",
    "\n",
    "# Predict probabilities\n",
    "probs = knn_model.predict_proba(X_test)\n",
    "# Keep probabilities for the positive outcome only\n",
    "probs = probs[:, 1]\n",
    "\n",
    "# Compute ROC curve and AUC\n",
    "fpr, tpr, thresholds = roc_curve(y_test, probs)\n",
    "roc_auc = auc(fpr, tpr)\n",
    "\n",
    "# Plot\n",
    "plt.figure(figsize=(8, 6))\n",
    "plt.plot(fpr, tpr, color='navy', lw=2, label=f'ROC curve (area = {roc_auc:.2f})')\n",
    "plt.plot([0, 1], [0, 1], color='red', lw=2, linestyle='--')\n",
    "plt.xlim([0.0, 1.0])\n",
    "plt.ylim([0.0, 1.05])\n",
    "plt.xlabel('False Positive Rate')\n",
    "plt.ylabel('True Positive Rate')\n",
    "plt.title('KNN Model ROC Curve')\n",
    "plt.legend(loc=\"lower right\")\n",
    "plt.show()\n",
    "\n",
    "print(f\"KNN ROC AUC: {roc_auc:.2f}\")\n"
   ]
  },
  {
   "cell_type": "code",
   "execution_count": 135,
   "id": "1016ed7a",
   "metadata": {},
   "outputs": [
    {
     "data": {
      "image/png": "[encoded data removed]",
      "text/plain": [
       "<Figure size 800x600 with 1 Axes>"
      ]
     },
     "metadata": {},
     "output_type": "display_data"
    },
    {
     "name": "stdout",
     "output_type": "stream",
     "text": [
      "KNN ROC AUC: 0.87\n"
     ]
    }
   ],
   "source": [
    "import matplotlib.pyplot as plt\n",
    "from sklearn.metrics import roc_curve, auc\n",
    "\n",
    "# Predict probabilities\n",
    "probs = log_model.predict_proba(X_test)\n",
    "# Keep probabilities for the positive outcome only\n",
    "probs = probs[:, 1]\n",
    "\n",
    "# Compute ROC curve and AUC\n",
    "fpr, tpr, thresholds = roc_curve(y_test, probs)\n",
    "roc_auc = auc(fpr, tpr)\n",
    "\n",
    "# Plot\n",
    "plt.figure(figsize=(8, 6))\n",
    "plt.plot(fpr, tpr, color='orange', lw=2, label=f'ROC curve (area = {roc_auc:.2f})')\n",
    "plt.plot([0, 1], [0, 1], color='red', lw=2, linestyle='--')\n",
    "plt.xlim([0.0, 1.0])\n",
    "plt.ylim([0.0, 1.05])\n",
    "plt.xlabel('False Positive Rate')\n",
    "plt.ylabel('True Positive Rate')\n",
    "plt.title('Log Model ROC Curve')\n",
    "plt.legend(loc=\"lower right\")\n",
    "plt.show()\n",
    "\n",
    "print(f\"KNN ROC AUC: {roc_auc:.2f}\")"
   ]
  },
  {
   "cell_type": "code",
   "execution_count": 136,
   "id": "129b0aa8",
   "metadata": {},
   "outputs": [
    {
     "data": {
      "image/png": "[encoded data removed]",
      "text/plain": [
       "<Figure size 800x600 with 1 Axes>"
      ]
     },
     "metadata": {},
     "output_type": "display_data"
    }
   ],
   "source": [
    "from sklearn.model_selection import cross_val_predict\n",
    "# Get predicted probabilities using cross-validation\n",
    "probs = cross_val_predict(dt_model, X, y, cv=5, method='predict_proba')\n",
    "\n",
    "# Keep probabilities for the positive outcome only\n",
    "probs = probs[:, 1]\n",
    "\n",
    "# Compute ROC curve and AUC\n",
    "fpr, tpr, thresholds = roc_curve(y, probs)\n",
    "roc_auc = auc(fpr, tpr)\n",
    "\n",
    "# Plot\n",
    "plt.figure(figsize=(8, 6))\n",
    "plt.plot(fpr, tpr, color='green', lw=2, label=f'Cross-Validated ROC curve (area = {roc_auc:.2f})')\n",
    "plt.plot([0, 1], [0, 1], color='red', lw=2, linestyle='--')\n",
    "plt.xlim([0.0, 1.0])\n",
    "plt.ylim([0.0, 1.05])\n",
    "plt.xlabel('False Positive Rate')\n",
    "plt.ylabel('True Positive Rate')\n",
    "plt.title('Decision Tree ROC Curve')\n",
    "plt.legend(loc=\"lower right\")\n",
    "plt.show()\n"
   ]
  },
  {
   "cell_type": "markdown",
   "id": "223894a1",
   "metadata": {},
   "source": [
    "# Part Two: Metrics"
   ]
  },
  {
   "cell_type": "markdown",
   "id": "d0ba8c77",
   "metadata": {},
   "source": [
    "### KNN"
   ]
  },
  {
   "cell_type": "code",
   "execution_count": 137,
   "id": "bcaaeced",
   "metadata": {},
   "outputs": [
    {
     "name": "stdout",
     "output_type": "stream",
     "text": [
      "KNN Precision: 0.6907216494845361\n",
      "KNN Recall (True Positive Rate): 0.788235294117647\n",
      "KNN Specificity (True Negative Rate): 0.620253164556962\n"
     ]
    }
   ],
   "source": [
    "#Get metrics from KNN\n",
    "tn, fp, fn, tp = knnconf_matrix.ravel()\n",
    "\n",
    "#Calc metrics\n",
    "knnprecision = tp / (tp + fp)  \n",
    "knnrecall = tp / (tp + fn)    \n",
    "knnspecificity = tn / (tn + fp)  \n",
    "\n",
    "\n",
    "print(f\"KNN Precision: {knnprecision}\")\n",
    "print(f\"KNN Recall (True Positive Rate): {knnrecall}\")\n",
    "print(f\"KNN Specificity (True Negative Rate): {knnspecificity}\")"
   ]
  },
  {
   "cell_type": "markdown",
   "id": "4084323e",
   "metadata": {},
   "source": [
    "### Logistic Regression"
   ]
  },
  {
   "cell_type": "code",
   "execution_count": 138,
   "id": "f7861e00",
   "metadata": {},
   "outputs": [
    {
     "name": "stdout",
     "output_type": "stream",
     "text": [
      "Logistic Model Precision: 0.7373737373737373\n",
      "Logistic Model Recall (True Positive Rate): 0.8588235294117647\n",
      "Logistic Model Specificity (True Negative Rate): 0.6708860759493671\n"
     ]
    }
   ],
   "source": [
    "#Get metrics from Log model\n",
    "\n",
    "tn, fp, fn, tp = logconf_matrix.ravel()\n",
    "\n",
    "#Calc metrics\n",
    "logprecision = tp / (tp + fp)  \n",
    "logrecall = tp / (tp + fn)    \n",
    "logspecificity = tn / (tn + fp)  \n",
    "\n",
    "\n",
    "print(f\"Logistic Model Precision: {logprecision}\")\n",
    "print(f\"Logistic Model Recall (True Positive Rate): {logrecall}\")\n",
    "print(f\"Logistic Model Specificity (True Negative Rate): {logspecificity}\")"
   ]
  },
  {
   "cell_type": "markdown",
   "id": "6626c08e",
   "metadata": {},
   "source": [
    "### Decision Tree"
   ]
  },
  {
   "cell_type": "code",
   "execution_count": 139,
   "id": "072b1e60",
   "metadata": {},
   "outputs": [
    {
     "name": "stdout",
     "output_type": "stream",
     "text": [
      "Decision Tree Precision: 0.6790123456790124\n",
      "Decision Tree Recall (True Positive Rate): 0.6470588235294118\n",
      "Decision Tree Specificity (True Negative Rate): 0.6708860759493671\n"
     ]
    }
   ],
   "source": [
    "#Get metrics from DT\n",
    "\n",
    "tn, fp, fn, tp = dtconf_matrix.ravel()\n",
    "\n",
    "#Calc metrics\n",
    "dtprecision = tp / (tp + fp)  \n",
    "dtrecall = tp / (tp + fn)    \n",
    "dtspecificity = tn / (tn + fp)  \n",
    "\n",
    "\n",
    "print(f\"Decision Tree Precision: {dtprecision}\")\n",
    "print(f\"Decision Tree Recall (True Positive Rate): {dtrecall}\")\n",
    "print(f\"Decision Tree Specificity (True Negative Rate): {dtspecificity}\")"
   ]
  },
  {
   "cell_type": "markdown",
   "id": "7f1fd204",
   "metadata": {},
   "source": [
    "# Part Three: Discussion"
   ]
  },
  {
   "cell_type": "markdown",
   "id": "bd488138",
   "metadata": {},
   "source": [
    "#### Q1: The hospital faces severe lawsuits if they deem a patient to be low risk, and that patient later experiences a heart attack."
   ]
  },
  {
   "cell_type": "markdown",
   "id": "b6e32ae8",
   "metadata": {},
   "source": [
    "In this scenario, you would want a model with the highest sensitivity/recall (True Positive Rate). A high sensitivity ensures that the patients who are at risk of a heart attack but are incorrectly labled as low risk (false negatives) is minimized. In this case, you would use the logistic regression model as it has the highest sensitivity of all the models with a sensitivity rate of 0.8588. 85.88% of the time patients who are classified as at risk are truly at risk."
   ]
  },
  {
   "cell_type": "markdown",
   "id": "7ca9b395",
   "metadata": {},
   "source": [
    "#### Q2: The hospital is overfull, and wants to only use bed space for patients most in need of monitoring due to heart attack risk."
   ]
  },
  {
   "cell_type": "markdown",
   "id": "9dc957cd",
   "metadata": {},
   "source": [
    "In this scenario, you would want a model with the highest precision to reduce false positives, as false positives would result in patients who are not at risk using the limited bedspace. In this case, you would use the logistic regression model as it has the highest precision rate of all the models with a precision rate of 0.7373. 73.73% of the time patients who are at risk are predicted to be at risk."
   ]
  },
  {
   "cell_type": "markdown",
   "id": "9b467386",
   "metadata": {},
   "source": [
    "#### Q3: The hospital is studying root causes of heart attacks, and would like to understand which biological measures are associated with heart attack risk."
   ]
  },
  {
   "cell_type": "markdown",
   "id": "67965aef",
   "metadata": {},
   "source": [
    "In this scenario, I would choose to use both the logistic regression and decision tree models due to not being able to directly interpret variables within KNN models. As mentioned above, we were able to identify the most influential predictors because those logistic and decision tree models are able to be interpreted."
   ]
  },
  {
   "cell_type": "markdown",
   "id": "6d0d6472",
   "metadata": {},
   "source": [
    "#### Q4: The hospital is training a new batch of doctors, and they would like to compare the diagnoses of these doctors to the predictions given by the algorithm to measure the ability of new doctors to diagnose patients."
   ]
  },
  {
   "cell_type": "markdown",
   "id": "8e6a438f",
   "metadata": {},
   "source": [
    "In this scenario you assess the doctors predictions and create a confusion matrix from the results. You would then compare the doctor confusion matrix to other models and make your decision based from there depending on the circumstances. Ideally, you would want one of the machine-learning methods to be superior so you would not have to rely on the same batch of doctors."
   ]
  },
  {
   "cell_type": "markdown",
   "id": "7ce734c1",
   "metadata": {},
   "source": [
    "# Part Four: Validation"
   ]
  },
  {
   "cell_type": "code",
   "execution_count": 140,
   "id": "ef372071",
   "metadata": {},
   "outputs": [
    {
     "data": {
      "text/html": [
       "<div>\n",
       "<style scoped>\n",
       "    .dataframe tbody tr th:only-of-type {\n",
       "        vertical-align: middle;\n",
       "    }\n",
       "\n",
       "    .dataframe tbody tr th {\n",
       "        vertical-align: top;\n",
       "    }\n",
       "\n",
       "    .dataframe thead th {\n",
       "        text-align: right;\n",
       "    }\n",
       "</style>\n",
       "<table border=\"1\" class=\"dataframe\">\n",
       "  <thead>\n",
       "    <tr style=\"text-align: right;\">\n",
       "      <th></th>\n",
       "      <th>age</th>\n",
       "      <th>sex</th>\n",
       "      <th>chestpain</th>\n",
       "      <th>rbps</th>\n",
       "      <th>chol</th>\n",
       "      <th>restecg</th>\n",
       "      <th>maxrate</th>\n",
       "      <th>risk</th>\n",
       "    </tr>\n",
       "  </thead>\n",
       "  <tbody>\n",
       "    <tr>\n",
       "      <th>0</th>\n",
       "      <td>41</td>\n",
       "      <td>0</td>\n",
       "      <td>1</td>\n",
       "      <td>130</td>\n",
       "      <td>204</td>\n",
       "      <td>0</td>\n",
       "      <td>172</td>\n",
       "      <td>1</td>\n",
       "    </tr>\n",
       "    <tr>\n",
       "      <th>1</th>\n",
       "      <td>64</td>\n",
       "      <td>1</td>\n",
       "      <td>3</td>\n",
       "      <td>110</td>\n",
       "      <td>211</td>\n",
       "      <td>0</td>\n",
       "      <td>144</td>\n",
       "      <td>1</td>\n",
       "    </tr>\n",
       "    <tr>\n",
       "      <th>2</th>\n",
       "      <td>59</td>\n",
       "      <td>1</td>\n",
       "      <td>0</td>\n",
       "      <td>135</td>\n",
       "      <td>234</td>\n",
       "      <td>1</td>\n",
       "      <td>161</td>\n",
       "      <td>1</td>\n",
       "    </tr>\n",
       "    <tr>\n",
       "      <th>3</th>\n",
       "      <td>42</td>\n",
       "      <td>1</td>\n",
       "      <td>0</td>\n",
       "      <td>140</td>\n",
       "      <td>226</td>\n",
       "      <td>1</td>\n",
       "      <td>178</td>\n",
       "      <td>1</td>\n",
       "    </tr>\n",
       "    <tr>\n",
       "      <th>4</th>\n",
       "      <td>40</td>\n",
       "      <td>1</td>\n",
       "      <td>3</td>\n",
       "      <td>140</td>\n",
       "      <td>199</td>\n",
       "      <td>1</td>\n",
       "      <td>178</td>\n",
       "      <td>1</td>\n",
       "    </tr>\n",
       "  </tbody>\n",
       "</table>\n",
       "</div>"
      ],
      "text/plain": [
       "   age sex chestpain  rbps  chol restecg  maxrate risk\n",
       "0   41   0         1   130   204       0      172    1\n",
       "1   64   1         3   110   211       0      144    1\n",
       "2   59   1         0   135   234       1      161    1\n",
       "3   42   1         0   140   226       1      178    1\n",
       "4   40   1         3   140   199       1      178    1"
      ]
     },
     "execution_count": 140,
     "metadata": {},
     "output_type": "execute_result"
    }
   ],
   "source": [
    "#Load in validation set and apply same changes to assess prediction performance\n",
    "valheart = pd.read_csv(\"https://www.dropbox.com/s/jkwqdiyx6o6oad0/heart_attack_validation.csv?dl=1\")\n",
    "valheart = valheart.dropna()\n",
    "valheart.rename(columns={'output': 'risk', 'cp': 'chestpain', 'trtbps': 'rbps', 'thalach': 'maxrate'}, inplace=True)\n",
    "valheart['risk'] = valheart['risk'].astype('category')\n",
    "valheart['sex'] = valheart['sex'].astype('category')\n",
    "valheart['chestpain'] = valheart['chestpain'].astype('category')\n",
    "valheart['restecg'] = valheart['restecg'].astype('category')\n",
    "valheart.head()"
   ]
  },
  {
   "cell_type": "code",
   "execution_count": 141,
   "id": "0c7ef3e4",
   "metadata": {},
   "outputs": [],
   "source": [
    "X_val = valheart.drop([\"risk\"],axis=1)\n",
    "y_val = valheart[\"risk\"]"
   ]
  },
  {
   "cell_type": "markdown",
   "id": "0638aeb2",
   "metadata": {},
   "source": [
    "### KNN Validation"
   ]
  },
  {
   "cell_type": "code",
   "execution_count": 142,
   "id": "874fcb99",
   "metadata": {},
   "outputs": [
    {
     "name": "stdout",
     "output_type": "stream",
     "text": [
      "KNN Validation Confusion Matrix:\n",
      "[[ 8  3]\n",
      " [ 4 15]]\n",
      "KNN Validation ROC AUC: 0.8827751196172249\n",
      "KNN Validation Precision: 0.8333333333333334\n",
      "KNN Validation Recall: 0.7894736842105263\n"
     ]
    }
   ],
   "source": [
    "# KNN Validation\n",
    "knn_val_pred = knn_pipeline50.predict(X_val)\n",
    "knn_val_pred_proba = knn_pipeline50.predict_proba(X_val)[:, 1]  \n",
    "\n",
    "# Calculate metrics\n",
    "knn_val_roc_auc = roc_auc_score(y_val, knn_val_pred_proba)\n",
    "knn_val_precision = precision_score(y_val, knn_val_pred)\n",
    "knn_val_recall = recall_score(y_val, knn_val_pred)\n",
    "\n",
    "# Confusion Matrix\n",
    "knn_val_conf_matrix = confusion_matrix(y_val, knn_val_pred)\n",
    "\n",
    "# Print the results\n",
    "print(\"KNN Validation Confusion Matrix:\")\n",
    "print(knn_val_conf_matrix)\n",
    "print(f\"KNN Validation ROC AUC: {knn_val_roc_auc}\")\n",
    "print(f\"KNN Validation Precision: {knn_val_precision}\")\n",
    "print(f\"KNN Validation Recall: {knn_val_recall}\")\n"
   ]
  },
  {
   "cell_type": "markdown",
   "id": "74922dbd",
   "metadata": {},
   "source": [
    "The KNN model performed considerably better than expected by exceeding every metric from the metrics on the original dataset. It performed the best out of all the models when using the validation data, slightly edging out the logistic model."
   ]
  },
  {
   "cell_type": "markdown",
   "id": "192f4b70",
   "metadata": {},
   "source": [
    "### Logistic Model Validation"
   ]
  },
  {
   "cell_type": "code",
   "execution_count": 143,
   "id": "f61b57f7",
   "metadata": {},
   "outputs": [
    {
     "name": "stdout",
     "output_type": "stream",
     "text": [
      "LOG Validation Confusion Matrix:\n",
      "[[ 8  3]\n",
      " [ 5 14]]\n",
      "LOG Validation ROC AUC: 0.8755980861244019\n",
      "LOG Validation Precision: 0.8235294117647058\n",
      "LOG Validation Recall: 0.7368421052631579\n"
     ]
    }
   ],
   "source": [
    "# Log Validation\n",
    "log_val_pred = log_pipeline.predict(X_val)\n",
    "log_val_pred_proba = log_pipeline.predict_proba(X_val)[:, 1]  \n",
    "\n",
    "# Calculate metrics\n",
    "log_val_roc_auc = roc_auc_score(y_val, log_val_pred_proba)\n",
    "log_val_precision = precision_score(y_val, log_val_pred)\n",
    "log_val_recall = recall_score(y_val, log_val_pred)\n",
    "\n",
    "# Confusion Matrix\n",
    "log_val_conf_matrix = confusion_matrix(y_val, log_val_pred)\n",
    "\n",
    "# Print the results\n",
    "print(\"LOG Validation Confusion Matrix:\")\n",
    "print(log_val_conf_matrix)\n",
    "print(f\"LOG Validation ROC AUC: {log_val_roc_auc}\")\n",
    "print(f\"LOG Validation Precision: {log_val_precision}\")\n",
    "print(f\"LOG Validation Recall: {log_val_recall}\")\n"
   ]
  },
  {
   "cell_type": "markdown",
   "id": "d7edb158",
   "metadata": {},
   "source": [
    "The logistic model had a better ROC AUC score when using the validation dataset but underperformed from the metrics (precision and recall) on the original dataset."
   ]
  },
  {
   "cell_type": "markdown",
   "id": "7a2ba34f",
   "metadata": {},
   "source": [
    "### Decision Tree Validation"
   ]
  },
  {
   "cell_type": "code",
   "execution_count": 144,
   "id": "dd05528d",
   "metadata": {},
   "outputs": [
    {
     "name": "stdout",
     "output_type": "stream",
     "text": [
      "DT Validation Confusion Matrix:\n",
      "[[ 8  3]\n",
      " [ 5 14]]\n",
      "DT Validation ROC AUC: 0.7320574162679426\n",
      "DT Validation Precision: 0.8235294117647058\n",
      "DT Validation Recall: 0.7368421052631579\n"
     ]
    }
   ],
   "source": [
    "# DT Validation\n",
    "dt_val_pred = dt_pipeline35.predict(X_val)\n",
    "dt_val_pred_proba = dt_pipeline35.predict_proba(X_val)[:, 1]  \n",
    "\n",
    "# Calculate metrics\n",
    "dt_val_roc_auc = roc_auc_score(y_val, dt_val_pred_proba)\n",
    "dt_val_precision = precision_score(y_val, dt_val_pred)\n",
    "dt_val_recall = recall_score(y_val, dt_val_pred)\n",
    "\n",
    "# Confusion Matrix\n",
    "dt_val_conf_matrix = confusion_matrix(y_val, dt_val_pred)\n",
    "\n",
    "# Print the results\n",
    "print(\"DT Validation Confusion Matrix:\")\n",
    "print(dt_val_conf_matrix)\n",
    "print(f\"DT Validation ROC AUC: {dt_val_roc_auc}\")\n",
    "print(f\"DT Validation Precision: {dt_val_precision}\")\n",
    "print(f\"DT Validation Recall: {dt_val_recall}\")\n",
    "\n"
   ]
  },
  {
   "cell_type": "markdown",
   "id": "1a843f77",
   "metadata": {},
   "source": [
    "The Decision Tree model had a worse ROC AUC score under the validation data but performed better than the original data in every other metric from the confusion matrix."
   ]
  },
  {
   "cell_type": "markdown",
   "id": "61498ad7",
   "metadata": {},
   "source": [
    "Overall, the models had some differences but were in the same ballpark in terms of values for each metric. The KNN and logistic models remain very close together in terms of metric performance."
   ]
  },
  {
   "cell_type": "markdown",
   "id": "3a9f56f5",
   "metadata": {},
   "source": [
    "# Part Five: Cohen's Kappa"
   ]
  },
  {
   "cell_type": "code",
   "execution_count": 145,
   "id": "f5252e5a",
   "metadata": {},
   "outputs": [],
   "source": [
    "from sklearn.metrics import cohen_kappa_score"
   ]
  },
  {
   "cell_type": "code",
   "execution_count": 146,
   "id": "9c41e445",
   "metadata": {},
   "outputs": [
    {
     "name": "stdout",
     "output_type": "stream",
     "text": [
      "Cohen's Kappa Score for K-Nearest Neighbors: 0.41069022308728853\n",
      "Cohen's Kappa Score for Logistic Regression: 0.5330436085718567\n",
      "Cohen's Kappa Score for Decision Tree: 0.31737773152965654\n"
     ]
    }
   ],
   "source": [
    "#Calc Cohen's Kappa for Each Model\n",
    "knn_cohen = cohen_kappa_score(y_test,knn_ypred)\n",
    "log_cohen = cohen_kappa_score(y_test,log_ypred)\n",
    "dt_cohen = cohen_kappa_score(y_test,dt_ypred)\n",
    "\n",
    "print(f\"Cohen's Kappa Score for K-Nearest Neighbors: {knn_cohen}\")\n",
    "print(f\"Cohen's Kappa Score for Logistic Regression: {log_cohen}\")\n",
    "print(f\"Cohen's Kappa Score for Decision Tree: {dt_cohen}\")"
   ]
  },
  {
   "cell_type": "markdown",
   "id": "f9b73f69",
   "metadata": {},
   "source": [
    "Our logistic regression model has the largest Cohen's Kappa (0.53) which indicates it has a weak level of agreement with the test data. None of the models performed well by Kappa measurement. Due to the logistic model performing the best, it makes sense that it is most similar with the test data (high kappa) and would not change our conclusions from earlier that the logistic model is superior. This would be a good measurement to use in the previously mentioned scenario with the batch of doctors. We could see whether the doctor's agreed on specific patients and then identify and study those patients that were controversial."
   ]
  }
 ],
 "metadata": {
  "kernelspec": {
   "display_name": "Python 3 (ipykernel)",
   "language": "python",
   "name": "python3"
  },
  "language_info": {
   "codemirror_mode": {
    "name": "ipython",
    "version": 3
   },
   "file_extension": ".py",
   "mimetype": "text/x-python",
   "name": "python",
   "nbconvert_exporter": "python",
   "pygments_lexer": "ipython3",
   "version": "3.11.3"
  }
 },
 "nbformat": 4,
 "nbformat_minor": 5
}
