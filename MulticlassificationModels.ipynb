{
 "cells": [
  {
   "cell_type": "raw",
   "id": "5b8c5596",
   "metadata": {},
   "source": [
    "---\n",
    "self-contained: true\n",
    "title: \"Multiclassification using Cannabis\"\n",
    "author: \"Brogan Pietrocini\"\n",
    "fontcolor: black\n",
    "backgroundcolor: whitesmoke\n",
    "format:\n",
    "    html:\n",
    "        theme: zephyr\n",
    "---\n"
   ]
  },
  {
   "cell_type": "code",
   "execution_count": 91,
   "id": "c39d3f7f",
   "metadata": {},
   "outputs": [],
   "source": [
    "import pandas as pd\n",
    "import numpy as np\n",
    "from sklearn.pipeline import Pipeline\n",
    "from sklearn.compose import ColumnTransformer, make_column_selector\n",
    "from sklearn.preprocessing import OneHotEncoder, StandardScaler\n",
    "from sklearn.model_selection import train_test_split, GridSearchCV, cross_val_score\n",
    "from sklearn.metrics import accuracy_score\n",
    "from sklearn.model_selection import GridSearchCV\n",
    "from sklearn.metrics import make_scorer, roc_auc_score\n",
    "from sklearn.linear_model import LogisticRegression\n",
    "from sklearn.metrics import confusion_matrix, precision_score, recall_score\n",
    "from sklearn.discriminant_analysis import LinearDiscriminantAnalysis\n",
    "from sklearn.discriminant_analysis import QuadraticDiscriminantAnalysis\n",
    "from sklearn.tree import DecisionTreeClassifier, plot_tree\n",
    "from sklearn.neighbors import KNeighborsClassifier\n",
    "import matplotlib.pyplot as plt\n",
    "from sklearn.svm import SVC"
   ]
  },
  {
   "cell_type": "code",
   "execution_count": 92,
   "id": "253c9096",
   "metadata": {},
   "outputs": [
    {
     "data": {
      "text/html": [
       "<div>\n",
       "<style scoped>\n",
       "    .dataframe tbody tr th:only-of-type {\n",
       "        vertical-align: middle;\n",
       "    }\n",
       "\n",
       "    .dataframe tbody tr th {\n",
       "        vertical-align: top;\n",
       "    }\n",
       "\n",
       "    .dataframe thead th {\n",
       "        text-align: right;\n",
       "    }\n",
       "</style>\n",
       "<table border=\"1\" class=\"dataframe\">\n",
       "  <thead>\n",
       "    <tr style=\"text-align: right;\">\n",
       "      <th></th>\n",
       "      <th>Type</th>\n",
       "      <th>Rating</th>\n",
       "      <th>Creative</th>\n",
       "      <th>Energetic</th>\n",
       "      <th>Tingly</th>\n",
       "      <th>Euphoric</th>\n",
       "      <th>Relaxed</th>\n",
       "      <th>Aroused</th>\n",
       "      <th>Happy</th>\n",
       "      <th>Uplifted</th>\n",
       "      <th>...</th>\n",
       "      <th>Ammonia</th>\n",
       "      <th>Minty</th>\n",
       "      <th>Tree</th>\n",
       "      <th>Fruit</th>\n",
       "      <th>Butter</th>\n",
       "      <th>Pineapple</th>\n",
       "      <th>Tar</th>\n",
       "      <th>Rose</th>\n",
       "      <th>Plum</th>\n",
       "      <th>Pear</th>\n",
       "    </tr>\n",
       "  </thead>\n",
       "  <tbody>\n",
       "    <tr>\n",
       "      <th>0</th>\n",
       "      <td>hybrid</td>\n",
       "      <td>4.0</td>\n",
       "      <td>1.0</td>\n",
       "      <td>1.0</td>\n",
       "      <td>1.0</td>\n",
       "      <td>1.0</td>\n",
       "      <td>1.0</td>\n",
       "      <td>0.0</td>\n",
       "      <td>0.0</td>\n",
       "      <td>0.0</td>\n",
       "      <td>...</td>\n",
       "      <td>0.0</td>\n",
       "      <td>0.0</td>\n",
       "      <td>0.0</td>\n",
       "      <td>0.0</td>\n",
       "      <td>0.0</td>\n",
       "      <td>0.0</td>\n",
       "      <td>0.0</td>\n",
       "      <td>0.0</td>\n",
       "      <td>0.0</td>\n",
       "      <td>0.0</td>\n",
       "    </tr>\n",
       "    <tr>\n",
       "      <th>1</th>\n",
       "      <td>hybrid</td>\n",
       "      <td>4.7</td>\n",
       "      <td>1.0</td>\n",
       "      <td>1.0</td>\n",
       "      <td>0.0</td>\n",
       "      <td>0.0</td>\n",
       "      <td>1.0</td>\n",
       "      <td>1.0</td>\n",
       "      <td>1.0</td>\n",
       "      <td>0.0</td>\n",
       "      <td>...</td>\n",
       "      <td>0.0</td>\n",
       "      <td>0.0</td>\n",
       "      <td>0.0</td>\n",
       "      <td>0.0</td>\n",
       "      <td>0.0</td>\n",
       "      <td>0.0</td>\n",
       "      <td>0.0</td>\n",
       "      <td>0.0</td>\n",
       "      <td>0.0</td>\n",
       "      <td>0.0</td>\n",
       "    </tr>\n",
       "    <tr>\n",
       "      <th>2</th>\n",
       "      <td>sativa</td>\n",
       "      <td>4.4</td>\n",
       "      <td>1.0</td>\n",
       "      <td>1.0</td>\n",
       "      <td>0.0</td>\n",
       "      <td>0.0</td>\n",
       "      <td>1.0</td>\n",
       "      <td>0.0</td>\n",
       "      <td>1.0</td>\n",
       "      <td>1.0</td>\n",
       "      <td>...</td>\n",
       "      <td>0.0</td>\n",
       "      <td>0.0</td>\n",
       "      <td>0.0</td>\n",
       "      <td>0.0</td>\n",
       "      <td>0.0</td>\n",
       "      <td>0.0</td>\n",
       "      <td>0.0</td>\n",
       "      <td>0.0</td>\n",
       "      <td>0.0</td>\n",
       "      <td>0.0</td>\n",
       "    </tr>\n",
       "    <tr>\n",
       "      <th>3</th>\n",
       "      <td>hybrid</td>\n",
       "      <td>4.2</td>\n",
       "      <td>1.0</td>\n",
       "      <td>0.0</td>\n",
       "      <td>1.0</td>\n",
       "      <td>0.0</td>\n",
       "      <td>1.0</td>\n",
       "      <td>0.0</td>\n",
       "      <td>0.0</td>\n",
       "      <td>1.0</td>\n",
       "      <td>...</td>\n",
       "      <td>0.0</td>\n",
       "      <td>0.0</td>\n",
       "      <td>0.0</td>\n",
       "      <td>0.0</td>\n",
       "      <td>0.0</td>\n",
       "      <td>0.0</td>\n",
       "      <td>0.0</td>\n",
       "      <td>0.0</td>\n",
       "      <td>0.0</td>\n",
       "      <td>0.0</td>\n",
       "    </tr>\n",
       "    <tr>\n",
       "      <th>4</th>\n",
       "      <td>hybrid</td>\n",
       "      <td>4.6</td>\n",
       "      <td>0.0</td>\n",
       "      <td>0.0</td>\n",
       "      <td>0.0</td>\n",
       "      <td>1.0</td>\n",
       "      <td>1.0</td>\n",
       "      <td>0.0</td>\n",
       "      <td>1.0</td>\n",
       "      <td>1.0</td>\n",
       "      <td>...</td>\n",
       "      <td>0.0</td>\n",
       "      <td>0.0</td>\n",
       "      <td>0.0</td>\n",
       "      <td>0.0</td>\n",
       "      <td>0.0</td>\n",
       "      <td>0.0</td>\n",
       "      <td>0.0</td>\n",
       "      <td>0.0</td>\n",
       "      <td>0.0</td>\n",
       "      <td>0.0</td>\n",
       "    </tr>\n",
       "  </tbody>\n",
       "</table>\n",
       "<p>5 rows × 66 columns</p>\n",
       "</div>"
      ],
      "text/plain": [
       "     Type  Rating Creative Energetic Tingly Euphoric Relaxed Aroused Happy  \\\n",
       "0  hybrid     4.0      1.0       1.0    1.0      1.0     1.0     0.0   0.0   \n",
       "1  hybrid     4.7      1.0       1.0    0.0      0.0     1.0     1.0   1.0   \n",
       "2  sativa     4.4      1.0       1.0    0.0      0.0     1.0     0.0   1.0   \n",
       "3  hybrid     4.2      1.0       0.0    1.0      0.0     1.0     0.0   0.0   \n",
       "4  hybrid     4.6      0.0       0.0    0.0      1.0     1.0     0.0   1.0   \n",
       "\n",
       "  Uplifted  ... Ammonia Minty Tree Fruit Butter Pineapple  Tar Rose Plum Pear  \n",
       "0      0.0  ...     0.0   0.0  0.0   0.0    0.0       0.0  0.0  0.0  0.0  0.0  \n",
       "1      0.0  ...     0.0   0.0  0.0   0.0    0.0       0.0  0.0  0.0  0.0  0.0  \n",
       "2      1.0  ...     0.0   0.0  0.0   0.0    0.0       0.0  0.0  0.0  0.0  0.0  \n",
       "3      1.0  ...     0.0   0.0  0.0   0.0    0.0       0.0  0.0  0.0  0.0  0.0  \n",
       "4      1.0  ...     0.0   0.0  0.0   0.0    0.0       0.0  0.0  0.0  0.0  0.0  \n",
       "\n",
       "[5 rows x 66 columns]"
      ]
     },
     "execution_count": 92,
     "metadata": {},
     "output_type": "execute_result"
    }
   ],
   "source": [
    "cannabis = pd.read_csv(r\"C:\\Users\\broga\\OneDrive\\Desktop\\MSBA\\Computing_ML\\Labs\\Lab_8\\cannabis_full.csv\")\n",
    "for col in cannabis.columns[5:]:\n",
    "    cannabis[col] = cannabis[col].astype('category')\n",
    "cannabis = cannabis.drop(['Strain','Effects','Flavor'],axis=1)\n",
    "cannabis.head()"
   ]
  },
  {
   "cell_type": "markdown",
   "id": "30ad5c82",
   "metadata": {},
   "source": [
    "# Part One: Binary Classification"
   ]
  },
  {
   "cell_type": "code",
   "execution_count": 93,
   "id": "4a4fe93a",
   "metadata": {},
   "outputs": [],
   "source": [
    "binarydf = cannabis[cannabis[\"Type\"].isin([\"sativa\",\"indica\"])]\n",
    "X = binarydf.drop([\"Type\"],axis=1)\n",
    "y = binarydf[\"Type\"]"
   ]
  },
  {
   "cell_type": "code",
   "execution_count": 94,
   "id": "d52f3530",
   "metadata": {},
   "outputs": [],
   "source": [
    "ct = ColumnTransformer(\n",
    "    [\n",
    "        (\"dummify\", OneHotEncoder(sparse_output=False, handle_unknown='ignore'), \n",
    "         make_column_selector(dtype_include=['category', 'object']))      \n",
    "    ],\n",
    "    remainder=\"passthrough\"\n",
    ")\n"
   ]
  },
  {
   "cell_type": "markdown",
   "id": "4f56eaea",
   "metadata": {},
   "source": [
    "## LDA"
   ]
  },
  {
   "cell_type": "code",
   "execution_count": 95,
   "id": "e50377a3",
   "metadata": {},
   "outputs": [
    {
     "name": "stdout",
     "output_type": "stream",
     "text": [
      "LDA Confusion Matrix:\n",
      "[[639  60]\n",
      " [ 88 352]]\n",
      "LDA Accuracy Score: 0.8402078986011284\n"
     ]
    }
   ],
   "source": [
    "#LDA\n",
    "\n",
    "lda_pipeline = Pipeline(\n",
    "    [\n",
    "        (\"preprocessing\", ct),\n",
    "        (\"LDA\", LinearDiscriminantAnalysis())\n",
    "    ]\n",
    ")\n",
    "\n",
    "lda_model = lda_pipeline.fit(X,y)\n",
    "                             \n",
    "lda_y_pred = lda_model.predict(X)\n",
    "\n",
    "lda_matrix = confusion_matrix(y,lda_y_pred)\n",
    "\n",
    "print(\"LDA Confusion Matrix:\")\n",
    "print(lda_matrix)\n",
    "\n",
    "scores_lda = cross_val_score(lda_model, X, y, cv=5, scoring='accuracy')\n",
    "lda_acc = scores_lda.mean()\n",
    "print(f\"LDA Accuracy Score:\",lda_acc)"
   ]
  },
  {
   "cell_type": "markdown",
   "id": "c9e2f33d",
   "metadata": {},
   "source": [
    "## QDA"
   ]
  },
  {
   "cell_type": "code",
   "execution_count": 96,
   "id": "aea26011",
   "metadata": {},
   "outputs": [
    {
     "name": "stdout",
     "output_type": "stream",
     "text": [
      "QDA Confusion Matrix:\n",
      "[[302 397]\n",
      " [ 63 377]]\n",
      "QDA Accuracy Score: 0.6585284797897828\n"
     ]
    }
   ],
   "source": [
    "#QDA\n",
    "import warnings\n",
    "warnings.filterwarnings(\"ignore\", message=\"Variables are collinear\")\n",
    "\n",
    "qda_pipeline = Pipeline(\n",
    "    [\n",
    "        (\"preprocessing\", ct),\n",
    "        (\"QDA\", QuadraticDiscriminantAnalysis())  \n",
    "    ]\n",
    ")\n",
    "\n",
    "qda_model = qda_pipeline.fit(X, y)\n",
    "\n",
    "qda_y_pred = qda_model.predict(X)\n",
    "\n",
    "qda_matrix = confusion_matrix(y, qda_y_pred)\n",
    "\n",
    "print(\"QDA Confusion Matrix:\")\n",
    "print(qda_matrix)\n",
    "\n",
    "scores_qda = cross_val_score(qda_model, X, y, cv=5, scoring='accuracy')\n",
    "svm_qda = scores_qda.mean()\n",
    "print(f\"QDA Accuracy Score:\",svm_qda)"
   ]
  },
  {
   "cell_type": "markdown",
   "id": "d284dbf0",
   "metadata": {},
   "source": [
    "## SVC"
   ]
  },
  {
   "cell_type": "code",
   "execution_count": 97,
   "id": "56c86055",
   "metadata": {},
   "outputs": [
    {
     "name": "stdout",
     "output_type": "stream",
     "text": [
      "SVC Confusion Matrix:\n",
      "[[647  52]\n",
      " [ 85 355]]\n",
      "SVC Accuracy Score: 0.8375879125125589\n"
     ]
    }
   ],
   "source": [
    "svc_pipeline = Pipeline(\n",
    "    [\n",
    "        (\"preprocessing\", ct),\n",
    "        (\"SVC\", SVC(kernel='linear'))  \n",
    "    ]\n",
    ")\n",
    "\n",
    "svc_model = svc_pipeline.fit(X, y)\n",
    "\n",
    "svc_y_pred = svc_model.predict(X)\n",
    "\n",
    "svc_matrix = confusion_matrix(y, svc_y_pred)\n",
    "print(\"SVC Confusion Matrix:\")\n",
    "print(svc_matrix)\n",
    "\n",
    "scores_svc = cross_val_score(svc_model, X, y, cv=5, scoring='accuracy')\n",
    "svc_acc = scores_svc.mean()\n",
    "print(f\"SVC Accuracy Score:\", svc_acc)\n"
   ]
  },
  {
   "cell_type": "markdown",
   "id": "31f2dda7",
   "metadata": {},
   "source": [
    "## SVM"
   ]
  },
  {
   "cell_type": "code",
   "execution_count": 98,
   "id": "6b1f2255",
   "metadata": {},
   "outputs": [
    {
     "name": "stdout",
     "output_type": "stream",
     "text": [
      "SVM Confusion Matrix:\n",
      "[[654  45]\n",
      " [ 85 355]]\n",
      "SVM Accuracy Score: 0.8489991498570214\n"
     ]
    }
   ],
   "source": [
    "svm_pipeline = Pipeline(\n",
    "    [\n",
    "        (\"preprocessing\", ct),\n",
    "        (\"SVC\", SVC(kernel='poly'))  \n",
    "    ]\n",
    ")\n",
    "\n",
    "svm_model = svm_pipeline.fit(X, y)\n",
    "\n",
    "svm_y_pred = svm_model.predict(X)\n",
    "\n",
    "svm_matrix = confusion_matrix(y, svm_y_pred)\n",
    "print(\"SVM Confusion Matrix:\")\n",
    "print(svm_matrix)\n",
    "\n",
    "scores_svm = cross_val_score(svm_model, X, y, cv=5, scoring='accuracy')\n",
    "svm_acc = scores_svm.mean()\n",
    "print(f\"SVM Accuracy Score:\",svm_acc)"
   ]
  },
  {
   "cell_type": "markdown",
   "id": "71481d96",
   "metadata": {},
   "source": [
    "# Part Two: Natural Multiclass"
   ]
  },
  {
   "cell_type": "code",
   "execution_count": 99,
   "id": "86ff88ef",
   "metadata": {},
   "outputs": [],
   "source": [
    "X = cannabis.drop([\"Type\"],axis=1)\n",
    "y = cannabis[\"Type\"]"
   ]
  },
  {
   "cell_type": "markdown",
   "id": "587e3abe",
   "metadata": {},
   "source": [
    "## Decision Tree"
   ]
  },
  {
   "cell_type": "code",
   "execution_count": 100,
   "id": "0f46d17e",
   "metadata": {},
   "outputs": [
    {
     "data": {
      "text/html": [
       "<div>\n",
       "<style scoped>\n",
       "    .dataframe tbody tr th:only-of-type {\n",
       "        vertical-align: middle;\n",
       "    }\n",
       "\n",
       "    .dataframe tbody tr th {\n",
       "        vertical-align: top;\n",
       "    }\n",
       "\n",
       "    .dataframe thead th {\n",
       "        text-align: right;\n",
       "    }\n",
       "</style>\n",
       "<table border=\"1\" class=\"dataframe\">\n",
       "  <thead>\n",
       "    <tr style=\"text-align: right;\">\n",
       "      <th></th>\n",
       "      <th>min_samples_leaf</th>\n",
       "      <th>Acc scores</th>\n",
       "    </tr>\n",
       "  </thead>\n",
       "  <tbody>\n",
       "    <tr>\n",
       "      <th>0</th>\n",
       "      <td>100</td>\n",
       "      <td>0.621013</td>\n",
       "    </tr>\n",
       "    <tr>\n",
       "      <th>1</th>\n",
       "      <td>125</td>\n",
       "      <td>0.626545</td>\n",
       "    </tr>\n",
       "    <tr>\n",
       "      <th>2</th>\n",
       "      <td>200</td>\n",
       "      <td>0.626545</td>\n",
       "    </tr>\n",
       "    <tr>\n",
       "      <th>3</th>\n",
       "      <td>250</td>\n",
       "      <td>0.612082</td>\n",
       "    </tr>\n",
       "  </tbody>\n",
       "</table>\n",
       "</div>"
      ],
      "text/plain": [
       "   min_samples_leaf  Acc scores\n",
       "0               100    0.621013\n",
       "1               125    0.626545\n",
       "2               200    0.626545\n",
       "3               250    0.612082"
      ]
     },
     "execution_count": 100,
     "metadata": {},
     "output_type": "execute_result"
    }
   ],
   "source": [
    "#DT Tuning\n",
    "\n",
    "# Create a Decision Tree pipeline\n",
    "dt_pipeline = Pipeline([\n",
    "    (\"preprocessing\", ct),\n",
    "    (\"decision_tree\", DecisionTreeClassifier())\n",
    "])\n",
    "\n",
    "leaf_values = [100,125,200,250]\n",
    "\n",
    "leaf_param = {\n",
    "    'decision_tree__min_samples_leaf': leaf_values\n",
    "}\n",
    "\n",
    "gscv = GridSearchCV(dt_pipeline, leaf_param, cv=5, scoring='accuracy')\n",
    "\n",
    "gscv.fit(X, y)\n",
    "\n",
    "acc_scores = gscv.cv_results_['mean_test_score']\n",
    "\n",
    "results_df = pd.DataFrame(data={\"min_samples_leaf\": leaf_values, \"Acc scores\": acc_scores})\n",
    "\n",
    "results_df\n"
   ]
  },
  {
   "cell_type": "code",
   "execution_count": 101,
   "id": "9c9f57bb",
   "metadata": {
    "scrolled": false
   },
   "outputs": [
    {
     "name": "stdout",
     "output_type": "stream",
     "text": [
      "DT Accuracy: 0.6265446989203596\n"
     ]
    },
    {
     "data": {
      "image/png": "[encoded data removed]",
      "text/plain": [
       "<Figure size 2000x1000 with 1 Axes>"
      ]
     },
     "metadata": {},
     "output_type": "display_data"
    }
   ],
   "source": [
    "dt_pipeline200 = Pipeline([\n",
    "    (\"preprocessing\", ct),\n",
    "    (\"decision_tree\", DecisionTreeClassifier(min_samples_leaf=200))\n",
    "])\n",
    "\n",
    "dt_model = dt_pipeline200.fit(X, y)\n",
    "\n",
    "scoresdt = cross_val_score(dt_model, X, y, cv=5, scoring='accuracy')\n",
    "dt_acc = scoresdt.mean()\n",
    "print(f\"DT Accuracy: {dt_acc}\")\n",
    "\n",
    "\n",
    "decision_tree_model = dt_pipeline200.named_steps['decision_tree']\n",
    "\n",
    "class_names = decision_tree_model.classes_\n",
    "\n",
    "\n",
    "plt.figure(figsize=(20, 10))  \n",
    "plot_tree(decision_tree_model, \n",
    "          filled=True, \n",
    "          feature_names=X.columns, \n",
    "          class_names=class_names,\n",
    "          fontsize=10)\n",
    "plt.show()\n"
   ]
  },
  {
   "cell_type": "markdown",
   "id": "c696387f",
   "metadata": {},
   "source": [
    "According to the decision tree results, the main variable that distinguishes between hybrid and indica is the chemical quality. Furthermore, the main difference between a hybrid and sativa strain is the focused attribute. We can conclude that most sativa strands offer a more focused effect than the other strains."
   ]
  },
  {
   "cell_type": "markdown",
   "id": "207429b3",
   "metadata": {},
   "source": [
    "## LDA Part Two"
   ]
  },
  {
   "cell_type": "code",
   "execution_count": 102,
   "id": "0f0b65ce",
   "metadata": {},
   "outputs": [
    {
     "name": "stdout",
     "output_type": "stream",
     "text": [
      "LDA 2 Confusion Matrix:\n",
      "[[851 213 148]\n",
      " [215 474  10]\n",
      " [230  20 190]]\n",
      "LDA 2 Accuracy Score: 0.6235659755161043\n"
     ]
    }
   ],
   "source": [
    "#LDA 2\n",
    "\n",
    "lda_pipeline = Pipeline(\n",
    "    [\n",
    "        (\"preprocessing\", ct),\n",
    "        (\"LDA\", LinearDiscriminantAnalysis())\n",
    "    ]\n",
    ")\n",
    "\n",
    "lda_model = lda_pipeline.fit(X,y)\n",
    "                             \n",
    "lda_y_pred = lda_model.predict(X)\n",
    "\n",
    "lda_matrix = confusion_matrix(y,lda_y_pred)\n",
    "\n",
    "print(\"LDA 2 Confusion Matrix:\")\n",
    "print(lda_matrix)\n",
    "scores_lda = cross_val_score(lda_model, X, y, cv=5, scoring='accuracy')\n",
    "lda_acc = scores_lda.mean()\n",
    "print(f\"LDA 2 Accuracy Score:\",lda_acc)\n",
    "\n"
   ]
  },
  {
   "cell_type": "markdown",
   "id": "97352735",
   "metadata": {},
   "source": [
    "## QDA Part Two"
   ]
  },
  {
   "cell_type": "code",
   "execution_count": 103,
   "id": "6d3639cc",
   "metadata": {},
   "outputs": [
    {
     "name": "stdout",
     "output_type": "stream",
     "text": [
      "QDA 2 Confusion Matrix:\n",
      "[[162 449 601]\n",
      " [ 45 409 245]\n",
      " [ 57  77 306]]\n",
      "QDA 2 Accuracy Score: 0.34708497086326057\n"
     ]
    }
   ],
   "source": [
    "#QDA 2\n",
    "warnings.filterwarnings(\"ignore\", message=\"Variables are collinear\")\n",
    "\n",
    "qda_pipeline = Pipeline(\n",
    "    [\n",
    "        (\"preprocessing\", ct),\n",
    "        (\"QDA\", QuadraticDiscriminantAnalysis())  \n",
    "    ]\n",
    ")\n",
    "\n",
    "qda_model = qda_pipeline.fit(X, y)\n",
    "\n",
    "qda_y_pred = qda_model.predict(X)\n",
    "\n",
    "qda_matrix = confusion_matrix(y, qda_y_pred)\n",
    "\n",
    "print(\"QDA 2 Confusion Matrix:\")\n",
    "print(qda_matrix)\n",
    "\n",
    "scores_qda = cross_val_score(qda_model, X, y, cv=5, scoring='accuracy')\n",
    "svm_qda = scores_qda.mean()\n",
    "print(f\"QDA 2 Accuracy Score:\",svm_qda)"
   ]
  },
  {
   "cell_type": "markdown",
   "id": "b0ca7af5",
   "metadata": {},
   "source": [
    "## KNN Part Two"
   ]
  },
  {
   "cell_type": "code",
   "execution_count": 104,
   "id": "e9f66748",
   "metadata": {},
   "outputs": [
    {
     "data": {
      "text/html": [
       "<div>\n",
       "<style scoped>\n",
       "    .dataframe tbody tr th:only-of-type {\n",
       "        vertical-align: middle;\n",
       "    }\n",
       "\n",
       "    .dataframe tbody tr th {\n",
       "        vertical-align: top;\n",
       "    }\n",
       "\n",
       "    .dataframe thead th {\n",
       "        text-align: right;\n",
       "    }\n",
       "</style>\n",
       "<table border=\"1\" class=\"dataframe\">\n",
       "  <thead>\n",
       "    <tr style=\"text-align: right;\">\n",
       "      <th></th>\n",
       "      <th>k values</th>\n",
       "      <th>KNN acc scores</th>\n",
       "    </tr>\n",
       "  </thead>\n",
       "  <tbody>\n",
       "    <tr>\n",
       "      <th>0</th>\n",
       "      <td>100</td>\n",
       "      <td>0.608256</td>\n",
       "    </tr>\n",
       "    <tr>\n",
       "      <th>1</th>\n",
       "      <td>150</td>\n",
       "      <td>0.608259</td>\n",
       "    </tr>\n",
       "    <tr>\n",
       "      <th>2</th>\n",
       "      <td>200</td>\n",
       "      <td>0.610388</td>\n",
       "    </tr>\n",
       "    <tr>\n",
       "      <th>3</th>\n",
       "      <td>250</td>\n",
       "      <td>0.604433</td>\n",
       "    </tr>\n",
       "  </tbody>\n",
       "</table>\n",
       "</div>"
      ],
      "text/plain": [
       "   k values  KNN acc scores\n",
       "0       100        0.608256\n",
       "1       150        0.608259\n",
       "2       200        0.610388\n",
       "3       250        0.604433"
      ]
     },
     "execution_count": 104,
     "metadata": {},
     "output_type": "execute_result"
    }
   ],
   "source": [
    "#Tune to find optimal k\n",
    "\n",
    "knn_pipeline = Pipeline(\n",
    "    [(\"preprocessing\", ct),\n",
    "     (\"knn\", KNeighborsClassifier())]\n",
    ")\n",
    "\n",
    "k_values = [100,150,200,250]  \n",
    "\n",
    "# Parameter grid for GridSearchCV\n",
    "k_param = {'knn__n_neighbors': k_values}\n",
    "\n",
    "gscv = GridSearchCV(knn_pipeline, k_param, cv=5, scoring='accuracy')\n",
    "\n",
    "#Fit to data\n",
    "gscv_fitted = gscv.fit(X, y)\n",
    "\n",
    "knn_acc_scores = gscv_fitted.cv_results_['mean_test_score']\n",
    "\n",
    "pd.DataFrame(data={\"k values\": k_values, \"KNN acc scores\": knn_acc_scores})\n"
   ]
  },
  {
   "cell_type": "code",
   "execution_count": 105,
   "id": "e4f20d14",
   "metadata": {},
   "outputs": [
    {
     "name": "stdout",
     "output_type": "stream",
     "text": [
      "KNN Accuracy: 0.6103880381262141\n",
      "Confusion Matrix:\n",
      "[[1025  183    4]\n",
      " [ 284  414    1]\n",
      " [ 421   12    7]]\n"
     ]
    }
   ],
   "source": [
    "#Using optimal k = 200\n",
    "\n",
    "knn_pipeline200 = Pipeline(\n",
    "    [(\"preprocessing\", ct),\n",
    "     (\"knn\", KNeighborsClassifier(n_neighbors=200))]\n",
    ")\n",
    "\n",
    "#Fit on data\n",
    "knn_model = knn_pipeline200.fit(X,y)\n",
    "\n",
    "#Get Acc score\n",
    "scoresknn = cross_val_score(knn_model, X, y, cv=5, scoring='accuracy')\n",
    "\n",
    "knn_acc = scoresknn.mean()\n",
    "\n",
    "print(f\"KNN Accuracy: {knn_acc}\")\n",
    "\n",
    "knn_ypred = knn_pipeline200.predict(X)\n",
    "\n",
    "#Confusion matrix\n",
    "knnconf_matrix = confusion_matrix(y, knn_ypred)\n",
    "\n",
    "# Print the confusion matrix\n",
    "print(\"Confusion Matrix:\")\n",
    "print(knnconf_matrix)"
   ]
  },
  {
   "cell_type": "markdown",
   "id": "85a774dd",
   "metadata": {},
   "source": [
    "## Analysis Part Two"
   ]
  },
  {
   "cell_type": "markdown",
   "id": "3e813e13",
   "metadata": {},
   "source": [
    "The metrics in Part Two were lower than in Part One, which makes sense intuitively as we are having to predict with multiclass instead of binary. The categories that were most likely to get mixed up were distinguishing between the hybrid and other categories, as hybrid strains contain qualities represented in both sativa and indica strains."
   ]
  },
  {
   "cell_type": "markdown",
   "id": "204a9b96",
   "metadata": {},
   "source": [
    "# Part Three: Multiclass from Binary"
   ]
  },
  {
   "cell_type": "code",
   "execution_count": 106,
   "id": "74f0b5da",
   "metadata": {},
   "outputs": [],
   "source": [
    "#Create new columns for OvR\n",
    "cannabis['IndicaOvR'] = (cannabis['Type'] == \"indica\").astype(int)\n",
    "cannabis['IndicaOvR'] = cannabis['IndicaOvR'].astype('category')\n",
    "\n",
    "cannabis['SativaOvR'] = (cannabis['Type'] == \"sativa\").astype(int)\n",
    "cannabis['SativaOvR'] = cannabis['SativaOvR'].astype('category')\n",
    "\n",
    "cannabis['HybridOvR'] = (cannabis['Type'] == \"hybrid\").astype(int)\n",
    "cannabis['HybridOvR'] = cannabis['HybridOvR'].astype('category')"
   ]
  },
  {
   "cell_type": "markdown",
   "id": "92bd9cce",
   "metadata": {},
   "source": [
    "## One vs. Rest"
   ]
  },
  {
   "cell_type": "markdown",
   "id": "9a2b6ebe",
   "metadata": {},
   "source": [
    "## OvR SVC"
   ]
  },
  {
   "cell_type": "code",
   "execution_count": 107,
   "id": "77e53877",
   "metadata": {},
   "outputs": [
    {
     "name": "stdout",
     "output_type": "stream",
     "text": [
      "SVC Indica vs. not Indica Confusion Matrix:\n",
      "[[1395  257]\n",
      " [ 232  467]]\n",
      "SVC Indica vs. not Indica Accuracy: 0.7856312960202376\n"
     ]
    }
   ],
   "source": [
    "X = cannabis.drop([\"Type\",'IndicaOvR','SativaOvR','HybridOvR'],axis=1)\n",
    "y = cannabis[\"IndicaOvR\"]\n",
    "\n",
    "svc_model = svc_pipeline.fit(X, y)\n",
    "\n",
    "svc_y_pred = svc_model.predict(X)\n",
    "\n",
    "svc_matrix = confusion_matrix(y, svc_y_pred)\n",
    "print(\"SVC Indica vs. not Indica Confusion Matrix:\")\n",
    "print(svc_matrix)\n",
    "\n",
    "scores_svc = cross_val_score(svc_model, X, y, cv=5, scoring='accuracy')\n",
    "svc_acc = scores_svc.mean()\n",
    "print(f\"SVC Indica vs. not Indica Accuracy: {svc_acc}\")"
   ]
  },
  {
   "cell_type": "code",
   "execution_count": 108,
   "id": "2944f333",
   "metadata": {},
   "outputs": [
    {
     "name": "stdout",
     "output_type": "stream",
     "text": [
      "SVC Sativa vs. not Sativa Confusion Matrix:\n",
      "[[1907    4]\n",
      " [ 435    5]]\n",
      "SVC Sativa vs. not Sativa Accuracy: 0.8158205718932106\n"
     ]
    }
   ],
   "source": [
    "X = cannabis.drop([\"Type\",'IndicaOvR','SativaOvR','HybridOvR'],axis=1)\n",
    "y = cannabis[\"SativaOvR\"]\n",
    "\n",
    "svc_model = svc_pipeline.fit(X, y)\n",
    "\n",
    "svc_y_pred = svc_model.predict(X)\n",
    "\n",
    "svc_matrix = confusion_matrix(y, svc_y_pred)\n",
    "print(\"SVC Sativa vs. not Sativa Confusion Matrix:\")\n",
    "print(svc_matrix)\n",
    "\n",
    "scores_svc = cross_val_score(svc_model, X, y, cv=5, scoring='accuracy')\n",
    "svc_acc = scores_svc.mean()\n",
    "print(f\"SVC Sativa vs. not Sativa Accuracy: {svc_acc}\")"
   ]
  },
  {
   "cell_type": "code",
   "execution_count": 109,
   "id": "70fe56b6",
   "metadata": {},
   "outputs": [
    {
     "name": "stdout",
     "output_type": "stream",
     "text": [
      "SVC Hybrid vs. not Hybrid Confusion Matrix:\n",
      "[[537 602]\n",
      " [261 951]]\n",
      "SVC Hybrid vs. not Hybrid Accuracy: 0.6146279983737635\n"
     ]
    }
   ],
   "source": [
    "X = cannabis.drop([\"Type\",'IndicaOvR','SativaOvR','HybridOvR'],axis=1)\n",
    "y = cannabis[\"HybridOvR\"]\n",
    "\n",
    "svc_model = svc_pipeline.fit(X, y)\n",
    "\n",
    "svc_y_pred = svc_model.predict(X)\n",
    "\n",
    "svc_matrix = confusion_matrix(y, svc_y_pred)\n",
    "print(\"SVC Hybrid vs. not Hybrid Confusion Matrix:\")\n",
    "print(svc_matrix)\n",
    "\n",
    "scores_svc = cross_val_score(svc_model, X, y, cv=5, scoring='accuracy')\n",
    "svc_acc = scores_svc.mean()\n",
    "print(f\"SVC Hybrid vs. not Hybrid Accuracy: {svc_acc}\")"
   ]
  },
  {
   "cell_type": "markdown",
   "id": "d5ce6055",
   "metadata": {},
   "source": [
    "## Logistic OvR"
   ]
  },
  {
   "cell_type": "code",
   "execution_count": 110,
   "id": "1a8b8a63",
   "metadata": {},
   "outputs": [],
   "source": [
    "ct = ColumnTransformer(\n",
    "  [\n",
    "    (\"dummify\", OneHotEncoder(sparse_output = False, handle_unknown='ignore'),\n",
    "    make_column_selector(dtype_include=['category', 'object'])), \n",
    "    (\"standardize\", StandardScaler(),make_column_selector(dtype_include=np.number)) \n",
    "  ],\n",
    "  remainder = \"passthrough\"\n",
    ")"
   ]
  },
  {
   "cell_type": "code",
   "execution_count": 111,
   "id": "fdb2b9c7",
   "metadata": {},
   "outputs": [
    {
     "name": "stdout",
     "output_type": "stream",
     "text": [
      "Log Indica vs. not Indica Confusion Matrix:\n",
      "[[1465  187]\n",
      " [ 263  436]]\n",
      "Log Indica vs. not Indica Accuracy: 0.7903094366897051\n"
     ]
    }
   ],
   "source": [
    "X = cannabis.drop([\"Type\",'IndicaOvR','SativaOvR','HybridOvR'],axis=1)\n",
    "y = cannabis[\"IndicaOvR\"]\n",
    "\n",
    "# Logistic regression pipeline\n",
    "log_pipeline = Pipeline([\n",
    "    (\"preprocessing\", ct),\n",
    "    (\"logistic_regression\", LogisticRegression(max_iter=1000))]\n",
    "    )\n",
    "\n",
    "# Fit on training data\n",
    "log_model = log_pipeline.fit(X,y)\n",
    "\n",
    "log_y_pred = log_model.predict(X)\n",
    "\n",
    "log_matrix = confusion_matrix(y, log_y_pred)\n",
    "print(\"Log Indica vs. not Indica Confusion Matrix:\")\n",
    "print(log_matrix)\n",
    "\n",
    "scores_log = cross_val_score(log_model, X, y, cv=5, scoring='accuracy')\n",
    "log_acc = scores_log.mean()\n",
    "print(f\"Log Indica vs. not Indica Accuracy: {log_acc}\")\n"
   ]
  },
  {
   "cell_type": "code",
   "execution_count": 112,
   "id": "4bbe49f4",
   "metadata": {},
   "outputs": [
    {
     "name": "stdout",
     "output_type": "stream",
     "text": [
      "Log Sativa vs. not Sativa Confusion Matrix:\n",
      "[[1819   92]\n",
      " [ 299  141]]\n",
      "Log Sativa vs. not Sativa Accuracy: 0.8277309481862944\n"
     ]
    }
   ],
   "source": [
    "X = cannabis.drop([\"Type\",'IndicaOvR','SativaOvR','HybridOvR'],axis=1)\n",
    "y = cannabis[\"SativaOvR\"]\n",
    "\n",
    "# Fit on training data\n",
    "log_model = log_pipeline.fit(X,y)\n",
    "\n",
    "log_y_pred = log_model.predict(X)\n",
    "\n",
    "log_matrix = confusion_matrix(y, log_y_pred)\n",
    "print(\"Log Sativa vs. not Sativa Confusion Matrix:\")\n",
    "print(log_matrix)\n",
    "\n",
    "scores_log = cross_val_score(log_model, X, y, cv=5, scoring='accuracy')\n",
    "log_acc = scores_log.mean()\n",
    "print(f\"Log Sativa vs. not Sativa Accuracy: {log_acc}\")\n"
   ]
  },
  {
   "cell_type": "code",
   "execution_count": 113,
   "id": "b8f17d91",
   "metadata": {},
   "outputs": [
    {
     "name": "stdout",
     "output_type": "stream",
     "text": [
      "Log Hybrid vs. not Hybrid Confusion Matrix:\n",
      "[[665 474]\n",
      " [354 858]]\n",
      "Log Hybrid vs. not Hybrid Accuracy: 0.6116574061525952\n"
     ]
    }
   ],
   "source": [
    "X = cannabis.drop([\"Type\",'IndicaOvR','SativaOvR','HybridOvR'],axis=1)\n",
    "y = cannabis[\"HybridOvR\"]\n",
    "\n",
    "# Fit on training data\n",
    "log_model = log_pipeline.fit(X,y)\n",
    "\n",
    "log_y_pred = log_model.predict(X)\n",
    "\n",
    "log_matrix = confusion_matrix(y, log_y_pred)\n",
    "print(\"Log Hybrid vs. not Hybrid Confusion Matrix:\")\n",
    "print(log_matrix)\n",
    "\n",
    "scores_log = cross_val_score(log_model, X, y, cv=5, scoring='accuracy')\n",
    "log_acc = scores_log.mean()\n",
    "print(f\"Log Hybrid vs. not Hybrid Accuracy: {log_acc}\")\n"
   ]
  },
  {
   "cell_type": "markdown",
   "id": "0179d484",
   "metadata": {},
   "source": [
    "## Logistic and SVC OvR Analysis"
   ]
  },
  {
   "cell_type": "markdown",
   "id": "73da0548",
   "metadata": {},
   "source": [
    "Both sativa models performed the best, with the logistic sativa model performing the best with an accuracy score of 0.8277. Both hybrid models were the worst at dinstinguishing the target category, which makes sense intuitively as a hybrid would be a mixture of both types and therefore would share similar qualities to both sativa and indica strains. These similarities ultimately make it harder to identify hybrid strains."
   ]
  },
  {
   "cell_type": "markdown",
   "id": "cc5585b3",
   "metadata": {},
   "source": [
    "## One vs. One"
   ]
  },
  {
   "cell_type": "code",
   "execution_count": 114,
   "id": "5b6e393e",
   "metadata": {},
   "outputs": [],
   "source": [
    "IndSat = cannabis[cannabis['Type'].isin([\"indica\",\"sativa\"])]  \n",
    "IndHyb = cannabis[cannabis['Type'].isin([\"indica\",\"hybrid\"])] \n",
    "HybSat = cannabis[cannabis['Type'].isin([\"hybrid\",\"sativa\"])] "
   ]
  },
  {
   "cell_type": "markdown",
   "id": "3447621f",
   "metadata": {},
   "source": [
    "## SVC OvO"
   ]
  },
  {
   "cell_type": "code",
   "execution_count": 115,
   "id": "b9a1a7ac",
   "metadata": {},
   "outputs": [
    {
     "name": "stdout",
     "output_type": "stream",
     "text": [
      "SVC Indica vs. Sativa Confusion Matrix:\n",
      "[[647  52]\n",
      " [ 85 355]]\n",
      "SVC Indica vs. Sativa Accuracy: 0.8375879125125589\n"
     ]
    }
   ],
   "source": [
    "X = IndSat.drop([\"Type\",'IndicaOvR','SativaOvR','HybridOvR'],axis=1)\n",
    "y = IndSat[\"Type\"]\n",
    "\n",
    "svc_model = svc_pipeline.fit(X, y)\n",
    "\n",
    "svc_y_pred = svc_model.predict(X)\n",
    "\n",
    "svc_matrix = confusion_matrix(y, svc_y_pred)\n",
    "print(\"SVC Indica vs. Sativa Confusion Matrix:\")\n",
    "print(svc_matrix)\n",
    "\n",
    "scores_svc = cross_val_score(svc_model, X, y, cv=5, scoring='accuracy')\n",
    "svc_acc = scores_svc.mean()\n",
    "print(f\"SVC Indica vs. Sativa Accuracy: {svc_acc}\")"
   ]
  },
  {
   "cell_type": "code",
   "execution_count": 116,
   "id": "8e71ef15",
   "metadata": {},
   "outputs": [
    {
     "name": "stdout",
     "output_type": "stream",
     "text": [
      "SVC Indica vs. Hybrid Confusion Matrix:\n",
      "[[981 231]\n",
      " [230 469]]\n",
      "SVC Indica vs. Hybrid Accuracy: 0.752491353738056\n"
     ]
    }
   ],
   "source": [
    "X = IndHyb.drop([\"Type\",'IndicaOvR','SativaOvR','HybridOvR'],axis=1)\n",
    "y = IndHyb[\"Type\"]\n",
    "\n",
    "svc_model = svc_pipeline.fit(X, y)\n",
    "\n",
    "svc_y_pred = svc_model.predict(X)\n",
    "\n",
    "svc_matrix = confusion_matrix(y, svc_y_pred)\n",
    "print(\"SVC Indica vs. Hybrid Confusion Matrix:\")\n",
    "print(svc_matrix)\n",
    "\n",
    "scores_svc = cross_val_score(svc_model, X, y, cv=5, scoring='accuracy')\n",
    "svc_acc = scores_svc.mean()\n",
    "print(f\"SVC Indica vs. Hybrid Accuracy: {svc_acc}\")"
   ]
  },
  {
   "cell_type": "code",
   "execution_count": 117,
   "id": "cdf8e2bc",
   "metadata": {},
   "outputs": [
    {
     "name": "stdout",
     "output_type": "stream",
     "text": [
      "SVC Sativa vs. Hybrid Confusion Matrix:\n",
      "[[1145   67]\n",
      " [ 310  130]]\n",
      "SVC Sativa vs. Hybrid Accuracy: 0.7396850682047057\n"
     ]
    }
   ],
   "source": [
    "X = HybSat.drop([\"Type\",'IndicaOvR','SativaOvR','HybridOvR'],axis=1)\n",
    "y = HybSat[\"Type\"]\n",
    "\n",
    "svc_model = svc_pipeline.fit(X, y)\n",
    "\n",
    "svc_y_pred = svc_model.predict(X)\n",
    "\n",
    "svc_matrix = confusion_matrix(y, svc_y_pred)\n",
    "print(\"SVC Sativa vs. Hybrid Confusion Matrix:\")\n",
    "print(svc_matrix)\n",
    "\n",
    "scores_svc = cross_val_score(svc_model, X, y, cv=5, scoring='accuracy')\n",
    "svc_acc = scores_svc.mean()\n",
    "print(f\"SVC Sativa vs. Hybrid Accuracy: {svc_acc}\")"
   ]
  },
  {
   "cell_type": "markdown",
   "id": "89b61d57",
   "metadata": {},
   "source": [
    "## Logistic OvO"
   ]
  },
  {
   "cell_type": "code",
   "execution_count": 118,
   "id": "b15d2a02",
   "metadata": {},
   "outputs": [
    {
     "name": "stdout",
     "output_type": "stream",
     "text": [
      "Log Indica vs. Sativa Confusion Matrix:\n",
      "[[630  69]\n",
      " [ 81 359]]\n",
      "Log Indica vs. Sativa Accuracy: 0.8402117628873947\n"
     ]
    }
   ],
   "source": [
    "X = IndSat.drop([\"Type\",'IndicaOvR','SativaOvR','HybridOvR'],axis=1)\n",
    "y = IndSat[\"Type\"]\n",
    "\n",
    "log_model = log_pipeline.fit(X,y)\n",
    "\n",
    "log_y_pred = log_model.predict(X)\n",
    "\n",
    "log_matrix = confusion_matrix(y, log_y_pred)\n",
    "print(\"Log Indica vs. Sativa Confusion Matrix:\")\n",
    "print(log_matrix)\n",
    "\n",
    "scores_log = cross_val_score(log_model, X, y, cv=5, scoring='accuracy')\n",
    "log_acc = scores_log.mean()\n",
    "print(f\"Log Indica vs. Sativa Accuracy: {log_acc}\")\n"
   ]
  },
  {
   "cell_type": "code",
   "execution_count": 119,
   "id": "f5978aa8",
   "metadata": {},
   "outputs": [
    {
     "name": "stdout",
     "output_type": "stream",
     "text": [
      "Log Indica vs. Hybrid Confusion Matrix:\n",
      "[[1020  192]\n",
      " [ 244  455]]\n",
      "Log Indica vs. Hybrid Accuracy: 0.7472571186417508\n"
     ]
    }
   ],
   "source": [
    "X = IndHyb.drop([\"Type\",'IndicaOvR','SativaOvR','HybridOvR'],axis=1)\n",
    "y = IndHyb[\"Type\"]\n",
    "\n",
    "log_model = log_pipeline.fit(X,y)\n",
    "\n",
    "log_y_pred = log_model.predict(X)\n",
    "\n",
    "log_matrix = confusion_matrix(y, log_y_pred)\n",
    "print(\"Log Indica vs. Hybrid Confusion Matrix:\")\n",
    "print(log_matrix)\n",
    "\n",
    "scores_log = cross_val_score(log_model, X, y, cv=5, scoring='accuracy')\n",
    "log_acc = scores_log.mean()\n",
    "print(f\"Log Indica vs. Hybrid Accuracy: {log_acc}\")\n"
   ]
  },
  {
   "cell_type": "code",
   "execution_count": 120,
   "id": "a827360e",
   "metadata": {},
   "outputs": [
    {
     "name": "stdout",
     "output_type": "stream",
     "text": [
      "Log Sativa vs. Hybrid Confusion Matrix:\n",
      "[[1119   93]\n",
      " [ 289  151]]\n",
      "Log Sativa vs. Hybrid Accuracy: 0.7451469376544905\n"
     ]
    }
   ],
   "source": [
    "X = HybSat.drop([\"Type\",'IndicaOvR','SativaOvR','HybridOvR'],axis=1)\n",
    "y = HybSat[\"Type\"]\n",
    "\n",
    "log_model = log_pipeline.fit(X,y)\n",
    "\n",
    "log_y_pred = log_model.predict(X)\n",
    "\n",
    "log_matrix = confusion_matrix(y, log_y_pred)\n",
    "print(\"Log Sativa vs. Hybrid Confusion Matrix:\")\n",
    "print(log_matrix)\n",
    "\n",
    "scores_log = cross_val_score(log_model, X, y, cv=5, scoring='accuracy')\n",
    "log_acc = scores_log.mean()\n",
    "print(f\"Log Sativa vs. Hybrid Accuracy: {log_acc}\")\n"
   ]
  },
  {
   "cell_type": "markdown",
   "id": "0be1ba39",
   "metadata": {},
   "source": [
    "## OvO SVC and Logistic Analysis"
   ]
  },
  {
   "cell_type": "markdown",
   "id": "c12e1989",
   "metadata": {},
   "source": [
    "Once again we are left with intuitive results as the Sativa vs. Indica models performed the best, with the logistic model having the highest accuracy score (0.84). As previously mentioned, the Sativa and Indica models do the best at distinguishing between the groups as they are distinct strains of cannabis, whereas hybrid contains qualities of both strains and therefore makes it harder to classify."
   ]
  },
  {
   "cell_type": "markdown",
   "id": "a1491df0",
   "metadata": {},
   "source": [
    "# Q5: Logisitic vs SVC Approach"
   ]
  },
  {
   "cell_type": "markdown",
   "id": "71569c14",
   "metadata": {},
   "source": [
    "Suppose you had simply input the full data, with three classes, into the LogisticRegression function. Would this have automatically taken an “OvO” approach or an “OvR” approach?\n",
    "\n",
    "What about for SVC?"
   ]
  },
  {
   "cell_type": "markdown",
   "id": "2c6b4c25",
   "metadata": {},
   "source": [
    "According to sklearn's documentation, the LogisticRegression function would have automatically taken the \"OvR\" approach, and the SVC function would have taken the \"OvO\" approach."
   ]
  }
 ],
 "metadata": {
  "kernelspec": {
   "display_name": "Python 3 (ipykernel)",
   "language": "python",
   "name": "python3"
  },
  "language_info": {
   "codemirror_mode": {
    "name": "ipython",
    "version": 3
   },
   "file_extension": ".py",
   "mimetype": "text/x-python",
   "name": "python",
   "nbconvert_exporter": "python",
   "pygments_lexer": "ipython3",
   "version": "3.11.3"
  }
 },
 "nbformat": 4,
 "nbformat_minor": 5
}
